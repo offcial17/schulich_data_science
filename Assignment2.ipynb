{
 "cells": [
  {
   "cell_type": "code",
   "execution_count": 354,
   "metadata": {},
   "outputs": [],
   "source": [
    "import numpy as np\n",
    "import pandas as pd\n",
    "from scipy import stats\n",
    "from scipy.stats import norm\n",
    "import seaborn as sns"
   ]
  },
  {
   "cell_type": "code",
   "execution_count": 355,
   "metadata": {},
   "outputs": [],
   "source": [
    "df =pd.read_csv(r\"C:\\Users\\sroff\\Documents\\MMAI CURRICULUM\\MBAN 6110 Data Sc 1\\Assignment 2\\experiment_dataset.csv\")"
   ]
  },
  {
   "cell_type": "code",
   "execution_count": 356,
   "metadata": {},
   "outputs": [
    {
     "name": "stdout",
     "output_type": "stream",
     "text": [
      "<class 'pandas.core.frame.DataFrame'>\n",
      "RangeIndex: 1000 entries, 0 to 999\n",
      "Data columns (total 7 columns):\n",
      " #   Column      Non-Null Count  Dtype  \n",
      "---  ------      --------------  -----  \n",
      " 0   Unnamed: 0  1000 non-null   int64  \n",
      " 1   Age         1000 non-null   int64  \n",
      " 2   Location    1000 non-null   object \n",
      " 3   Device      1000 non-null   object \n",
      " 4   Variant     1000 non-null   object \n",
      " 5   Time Spent  1000 non-null   float64\n",
      " 6   CTR         1000 non-null   float64\n",
      "dtypes: float64(2), int64(2), object(3)\n",
      "memory usage: 54.8+ KB\n"
     ]
    },
    {
     "data": {
      "text/html": [
       "<div>\n",
       "<style scoped>\n",
       "    .dataframe tbody tr th:only-of-type {\n",
       "        vertical-align: middle;\n",
       "    }\n",
       "\n",
       "    .dataframe tbody tr th {\n",
       "        vertical-align: top;\n",
       "    }\n",
       "\n",
       "    .dataframe thead th {\n",
       "        text-align: right;\n",
       "    }\n",
       "</style>\n",
       "<table border=\"1\" class=\"dataframe\">\n",
       "  <thead>\n",
       "    <tr style=\"text-align: right;\">\n",
       "      <th></th>\n",
       "      <th>Unnamed: 0</th>\n",
       "      <th>Age</th>\n",
       "      <th>Location</th>\n",
       "      <th>Device</th>\n",
       "      <th>Variant</th>\n",
       "      <th>Time Spent</th>\n",
       "      <th>CTR</th>\n",
       "    </tr>\n",
       "  </thead>\n",
       "  <tbody>\n",
       "    <tr>\n",
       "      <th>count</th>\n",
       "      <td>1000.000000</td>\n",
       "      <td>1000.000000</td>\n",
       "      <td>1000</td>\n",
       "      <td>1000</td>\n",
       "      <td>1000</td>\n",
       "      <td>1000.000000</td>\n",
       "      <td>1000.000000</td>\n",
       "    </tr>\n",
       "    <tr>\n",
       "      <th>unique</th>\n",
       "      <td>NaN</td>\n",
       "      <td>NaN</td>\n",
       "      <td>3</td>\n",
       "      <td>3</td>\n",
       "      <td>3</td>\n",
       "      <td>NaN</td>\n",
       "      <td>NaN</td>\n",
       "    </tr>\n",
       "    <tr>\n",
       "      <th>top</th>\n",
       "      <td>NaN</td>\n",
       "      <td>NaN</td>\n",
       "      <td>Location2</td>\n",
       "      <td>Device3</td>\n",
       "      <td>Control</td>\n",
       "      <td>NaN</td>\n",
       "      <td>NaN</td>\n",
       "    </tr>\n",
       "    <tr>\n",
       "      <th>freq</th>\n",
       "      <td>NaN</td>\n",
       "      <td>NaN</td>\n",
       "      <td>343</td>\n",
       "      <td>346</td>\n",
       "      <td>340</td>\n",
       "      <td>NaN</td>\n",
       "      <td>NaN</td>\n",
       "    </tr>\n",
       "    <tr>\n",
       "      <th>mean</th>\n",
       "      <td>499.500000</td>\n",
       "      <td>40.715000</td>\n",
       "      <td>NaN</td>\n",
       "      <td>NaN</td>\n",
       "      <td>NaN</td>\n",
       "      <td>22.713345</td>\n",
       "      <td>0.109145</td>\n",
       "    </tr>\n",
       "    <tr>\n",
       "      <th>std</th>\n",
       "      <td>288.819436</td>\n",
       "      <td>13.655557</td>\n",
       "      <td>NaN</td>\n",
       "      <td>NaN</td>\n",
       "      <td>NaN</td>\n",
       "      <td>5.479292</td>\n",
       "      <td>0.022366</td>\n",
       "    </tr>\n",
       "    <tr>\n",
       "      <th>min</th>\n",
       "      <td>0.000000</td>\n",
       "      <td>18.000000</td>\n",
       "      <td>NaN</td>\n",
       "      <td>NaN</td>\n",
       "      <td>NaN</td>\n",
       "      <td>7.114806</td>\n",
       "      <td>0.012975</td>\n",
       "    </tr>\n",
       "    <tr>\n",
       "      <th>25%</th>\n",
       "      <td>249.750000</td>\n",
       "      <td>28.000000</td>\n",
       "      <td>NaN</td>\n",
       "      <td>NaN</td>\n",
       "      <td>NaN</td>\n",
       "      <td>19.216608</td>\n",
       "      <td>0.094286</td>\n",
       "    </tr>\n",
       "    <tr>\n",
       "      <th>50%</th>\n",
       "      <td>499.500000</td>\n",
       "      <td>41.000000</td>\n",
       "      <td>NaN</td>\n",
       "      <td>NaN</td>\n",
       "      <td>NaN</td>\n",
       "      <td>22.506707</td>\n",
       "      <td>0.108944</td>\n",
       "    </tr>\n",
       "    <tr>\n",
       "      <th>75%</th>\n",
       "      <td>749.250000</td>\n",
       "      <td>53.000000</td>\n",
       "      <td>NaN</td>\n",
       "      <td>NaN</td>\n",
       "      <td>NaN</td>\n",
       "      <td>26.255950</td>\n",
       "      <td>0.124238</td>\n",
       "    </tr>\n",
       "    <tr>\n",
       "      <th>max</th>\n",
       "      <td>999.000000</td>\n",
       "      <td>64.000000</td>\n",
       "      <td>NaN</td>\n",
       "      <td>NaN</td>\n",
       "      <td>NaN</td>\n",
       "      <td>39.395770</td>\n",
       "      <td>0.172728</td>\n",
       "    </tr>\n",
       "  </tbody>\n",
       "</table>\n",
       "</div>"
      ],
      "text/plain": [
       "         Unnamed: 0          Age   Location   Device  Variant   Time Spent   \n",
       "count   1000.000000  1000.000000       1000     1000     1000  1000.000000  \\\n",
       "unique          NaN          NaN          3        3        3          NaN   \n",
       "top             NaN          NaN  Location2  Device3  Control          NaN   \n",
       "freq            NaN          NaN        343      346      340          NaN   \n",
       "mean     499.500000    40.715000        NaN      NaN      NaN    22.713345   \n",
       "std      288.819436    13.655557        NaN      NaN      NaN     5.479292   \n",
       "min        0.000000    18.000000        NaN      NaN      NaN     7.114806   \n",
       "25%      249.750000    28.000000        NaN      NaN      NaN    19.216608   \n",
       "50%      499.500000    41.000000        NaN      NaN      NaN    22.506707   \n",
       "75%      749.250000    53.000000        NaN      NaN      NaN    26.255950   \n",
       "max      999.000000    64.000000        NaN      NaN      NaN    39.395770   \n",
       "\n",
       "                CTR  \n",
       "count   1000.000000  \n",
       "unique          NaN  \n",
       "top             NaN  \n",
       "freq            NaN  \n",
       "mean       0.109145  \n",
       "std        0.022366  \n",
       "min        0.012975  \n",
       "25%        0.094286  \n",
       "50%        0.108944  \n",
       "75%        0.124238  \n",
       "max        0.172728  "
      ]
     },
     "execution_count": 356,
     "metadata": {},
     "output_type": "execute_result"
    }
   ],
   "source": [
    "df.info() #to check for null entries\n",
    "df.describe(include='all')"
   ]
  },
  {
   "cell_type": "code",
   "execution_count": 357,
   "metadata": {},
   "outputs": [
    {
     "name": "stdout",
     "output_type": "stream",
     "text": [
      "<class 'pandas.core.frame.DataFrame'>\n",
      "RangeIndex: 1000 entries, 0 to 999\n",
      "Data columns (total 7 columns):\n",
      " #   Column      Non-Null Count  Dtype  \n",
      "---  ------      --------------  -----  \n",
      " 0   Unnamed: 0  1000 non-null   int64  \n",
      " 1   Age         1000 non-null   int64  \n",
      " 2   Location    1000 non-null   object \n",
      " 3   Device      1000 non-null   object \n",
      " 4   Variant     1000 non-null   object \n",
      " 5   Time Spent  1000 non-null   float64\n",
      " 6   CTR         1000 non-null   float64\n",
      "dtypes: float64(2), int64(2), object(3)\n",
      "memory usage: 54.8+ KB\n"
     ]
    }
   ],
   "source": [
    "df.drop_duplicates(inplace=True) # checking for duplicates\n",
    "df.info() #No duplicates found"
   ]
  },
  {
   "cell_type": "code",
   "execution_count": 358,
   "metadata": {},
   "outputs": [
    {
     "data": {
      "text/html": [
       "<div>\n",
       "<style scoped>\n",
       "    .dataframe tbody tr th:only-of-type {\n",
       "        vertical-align: middle;\n",
       "    }\n",
       "\n",
       "    .dataframe tbody tr th {\n",
       "        vertical-align: top;\n",
       "    }\n",
       "\n",
       "    .dataframe thead th {\n",
       "        text-align: right;\n",
       "    }\n",
       "</style>\n",
       "<table border=\"1\" class=\"dataframe\">\n",
       "  <thead>\n",
       "    <tr style=\"text-align: right;\">\n",
       "      <th></th>\n",
       "      <th>Unnamed: 0</th>\n",
       "      <th>Age</th>\n",
       "      <th>Location</th>\n",
       "      <th>Device</th>\n",
       "      <th>Time Spent</th>\n",
       "      <th>CTR</th>\n",
       "    </tr>\n",
       "    <tr>\n",
       "      <th>Variant</th>\n",
       "      <th></th>\n",
       "      <th></th>\n",
       "      <th></th>\n",
       "      <th></th>\n",
       "      <th></th>\n",
       "      <th></th>\n",
       "    </tr>\n",
       "  </thead>\n",
       "  <tbody>\n",
       "    <tr>\n",
       "      <th>Control</th>\n",
       "      <td>340</td>\n",
       "      <td>340</td>\n",
       "      <td>340</td>\n",
       "      <td>340</td>\n",
       "      <td>340</td>\n",
       "      <td>340</td>\n",
       "    </tr>\n",
       "    <tr>\n",
       "      <th>Variant A</th>\n",
       "      <td>330</td>\n",
       "      <td>330</td>\n",
       "      <td>330</td>\n",
       "      <td>330</td>\n",
       "      <td>330</td>\n",
       "      <td>330</td>\n",
       "    </tr>\n",
       "    <tr>\n",
       "      <th>Variant B</th>\n",
       "      <td>330</td>\n",
       "      <td>330</td>\n",
       "      <td>330</td>\n",
       "      <td>330</td>\n",
       "      <td>330</td>\n",
       "      <td>330</td>\n",
       "    </tr>\n",
       "  </tbody>\n",
       "</table>\n",
       "</div>"
      ],
      "text/plain": [
       "           Unnamed: 0  Age  Location  Device  Time Spent  CTR\n",
       "Variant                                                      \n",
       "Control           340  340       340     340         340  340\n",
       "Variant A         330  330       330     330         330  330\n",
       "Variant B         330  330       330     330         330  330"
      ]
     },
     "execution_count": 358,
     "metadata": {},
     "output_type": "execute_result"
    }
   ],
   "source": [
    "df.groupby('Variant').count() # Counting the number of records for each variant"
   ]
  },
  {
   "cell_type": "code",
   "execution_count": 359,
   "metadata": {},
   "outputs": [
    {
     "data": {
      "text/plain": [
       "Variant\n",
       "Control      0.098554\n",
       "Variant A    0.120269\n",
       "Variant B    0.108933\n",
       "Name: CTR, dtype: float64"
      ]
     },
     "execution_count": 359,
     "metadata": {},
     "output_type": "execute_result"
    }
   ],
   "source": [
    "df_v= df.groupby('Variant') # Grouping Based on Variant\n",
    "df_v['CTR'].mean()"
   ]
  },
  {
   "cell_type": "code",
   "execution_count": 360,
   "metadata": {},
   "outputs": [
    {
     "data": {
      "text/plain": [
       "Variant\n",
       "Control      20.070781\n",
       "Variant A    24.805547\n",
       "Variant B    23.343783\n",
       "Name: Time Spent, dtype: float64"
      ]
     },
     "execution_count": 360,
     "metadata": {},
     "output_type": "execute_result"
    }
   ],
   "source": [
    "df_v['Time Spent'].mean()"
   ]
  },
  {
   "cell_type": "code",
   "execution_count": 361,
   "metadata": {},
   "outputs": [
    {
     "data": {
      "text/plain": [
       "<Axes: xlabel='Variant', ylabel='CTR'>"
      ]
     },
     "execution_count": 361,
     "metadata": {},
     "output_type": "execute_result"
    },
    {
     "data": {
      "image/png": "[encoded data removed]",
      "text/plain": [
       "<Figure size 640x480 with 1 Axes>"
      ]
     },
     "metadata": {},
     "output_type": "display_data"
    }
   ],
   "source": [
    "sns.boxplot(x='Variant',y='CTR',data=df,showmeans=True)"
   ]
  },
  {
   "cell_type": "code",
   "execution_count": 362,
   "metadata": {},
   "outputs": [
    {
     "data": {
      "text/plain": [
       "<Axes: xlabel='Variant', ylabel='Time Spent'>"
      ]
     },
     "execution_count": 362,
     "metadata": {},
     "output_type": "execute_result"
    },
    {
     "data": {
      "image/png": "[encoded data removed]",
      "text/plain": [
       "<Figure size 640x480 with 1 Axes>"
      ]
     },
     "metadata": {},
     "output_type": "display_data"
    }
   ],
   "source": [
    "sns.boxplot(x='Variant',y='Time Spent',data=df,showmeans=True)"
   ]
  },
  {
   "attachments": {},
   "cell_type": "markdown",
   "metadata": {},
   "source": [
    "Question 1 : Analyze the results to determine which feature (if any) results in CTR or Time Spent lift.\n",
    "\n",
    "- It seems that feature in Variant A results in a higher CTR and Time Spent based on the Average values. However, to properly analyze the results and determine which feature (if any) results in a CTR or Average Time Spent lift, we will first define the Null Hypothesis that : There is no difference in CTR or Average Time Spent between the two features; and then conduct statistical testing\n"
   ]
  },
  {
   "cell_type": "code",
   "execution_count": 363,
   "metadata": {},
   "outputs": [
    {
     "name": "stdout",
     "output_type": "stream",
     "text": [
      "T-statistic: 7.08499696316128\n",
      "P-value: 3.587180487986577e-12\n"
     ]
    }
   ],
   "source": [
    "Variant_A = df[df['Variant'] == 'Variant A']['CTR']\n",
    "Variant_B = df[df['Variant'] == 'Variant B']['CTR']\n",
    "\n",
    "\n",
    "t_stat, p_val = stats.ttest_ind(Variant_A, Variant_B) #t-test for CTR\n",
    "\n",
    "print(f\"T-statistic: {t_stat}\")\n",
    "print(f\"P-value: {p_val}\")"
   ]
  },
  {
   "cell_type": "code",
   "execution_count": 364,
   "metadata": {},
   "outputs": [
    {
     "name": "stdout",
     "output_type": "stream",
     "text": [
      "T-statistic: 3.6788175394209075\n",
      "P-value: 0.0002534771014765265\n"
     ]
    }
   ],
   "source": [
    "Variant_A = df[df['Variant'] == 'Variant A']['Time Spent']\n",
    "Variant_B = df[df['Variant'] == 'Variant B']['Time Spent']\n",
    "\n",
    "\n",
    "t_stat, p_val = stats.ttest_ind(Variant_A, Variant_B) #t-test for Time Spent\n",
    "\n",
    "print(f\"T-statistic: {t_stat}\")\n",
    "print(f\"P-value: {p_val}\")"
   ]
  },
  {
   "attachments": {},
   "cell_type": "markdown",
   "metadata": {},
   "source": [
    "Taking 0.05 as the critical p-value -\n",
    "1) The very low p-value for CTR denotes that the null hypothesis is false for CTR i.e. there is a significant difference in CTR for the two variants, with the average CTR for Variant A being higher than that of Variant B.\n",
    "2) The low p-value for Time Spent denotes that the null hypothesis is false for for CTR i.e. there is a significant difference in Time Spent for the two variants, with the average Time Spent for Variant A being higher than that of Variant B.\n",
    "\n",
    "This suggests the feature in Variant A results in both CTR and Time Spent lift. However, to confirm this we will conduct a non-parametric test since the dataset in not large (n=1000 which is less that 10,000)"
   ]
  },
  {
   "cell_type": "code",
   "execution_count": 365,
   "metadata": {},
   "outputs": [
    {
     "name": "stdout",
     "output_type": "stream",
     "text": [
      "U-statistic: 71044.0\n",
      "Critical U Value: -212.801696893986\n",
      "P-value: 1.2434380758636484e-11\n"
     ]
    }
   ],
   "source": [
    "\n",
    "Variant_A = df[df['Variant'] == 'Variant A']['CTR']\n",
    "Variant_B = df[df['Variant'] == 'Variant B']['CTR']\n",
    "\n",
    "\n",
    "U_stat, p_val = stats.mannwhitneyu(Variant_A, Variant_B) #Mann Whitney U test for CTR\n",
    "n1 = len(Variant_A)\n",
    "n2 = len(Variant_B)\n",
    "alpha = 0.05\n",
    "\n",
    "critical_U = norm.ppf(alpha, n1, n2) # Finding the Critical U value\n",
    "\n",
    "print(f\"U-statistic: {U_stat}\")\n",
    "print(f\"Critical U Value: {critical_U}\")\n",
    "print(f\"P-value: {p_val}\")"
   ]
  },
  {
   "cell_type": "code",
   "execution_count": 366,
   "metadata": {},
   "outputs": [
    {
     "name": "stdout",
     "output_type": "stream",
     "text": [
      "U-statistic: 63471.0\n",
      "Critical U Value: -212.801696893986\n",
      "P-value: 0.00023046799187051298\n"
     ]
    }
   ],
   "source": [
    "Variant_A = df[df['Variant'] == 'Variant A']['Time Spent']\n",
    "Variant_B = df[df['Variant'] == 'Variant B']['Time Spent']\n",
    "\n",
    "\n",
    "U_stat, p_val = stats.mannwhitneyu(Variant_A, Variant_B) #Mann Whitney U test for Time Spent\n",
    "\n",
    "n1 = len(Variant_A)\n",
    "n2 = len(Variant_B)\n",
    "alpha = 0.05\n",
    "\n",
    "critical_U = norm.ppf(alpha, n1, n2) #Finding the Critical U value\n",
    "\n",
    "print(f\"U-statistic: {U_stat}\")\n",
    "print(f\"Critical U Value: {critical_U}\")\n",
    "print(f\"P-value: {p_val}\")"
   ]
  },
  {
   "attachments": {},
   "cell_type": "markdown",
   "metadata": {},
   "source": [
    "Considering the given results, we can conclude that there is a statistically significant difference in both CTR and Time Spent between Variant A and Variant B, as indicated by the very small p-values (<0.05). This reconfirms the t-tests and we can say that the feature in Variant A results in both CTR and Time Spent lift."
   ]
  },
  {
   "attachments": {},
   "cell_type": "markdown",
   "metadata": {},
   "source": [
    "Question 2: Conduct statistical testing to determine if there is a statistically significant difference between the features and the control group.\n",
    "\n",
    "- To analyse the significance difference between the features and control group, we will first define the Null Hypothesis that : There is no difference in CTR or Average Time Spent between the features and the control group. Next, we conduct statistical testing using the following test methods\n",
    "1) Chi-Squared Test\n",
    "2) ANOVA Test\n",
    "3) Kruskal-Wallis test"
   ]
  },
  {
   "cell_type": "code",
   "execution_count": 367,
   "metadata": {},
   "outputs": [
    {
     "name": "stdout",
     "output_type": "stream",
     "text": [
      "Chi-squared: 118.72665767798219\n",
      "P-value: 3.0162643329434613e-23\n"
     ]
    }
   ],
   "source": [
    "# Chi-Sqaured Test for CTR\n",
    "# Convert 'CTR' to a categorical variable\n",
    "df['CTR_CAT'] = pd.cut(df['CTR'], bins=[0, 0.05, 0.1, 0.15,0.2])\n",
    "\n",
    "# Create a contingency table\n",
    "contingency_table = pd.crosstab(df['Variant'], df['CTR_CAT'])\n",
    "\n",
    "chi2, p_val, dof, expected = stats.chi2_contingency(contingency_table)\n",
    "\n",
    "print(f\"Chi-squared: {chi2}\")\n",
    "print(f\"P-value: {p_val}\")"
   ]
  },
  {
   "cell_type": "code",
   "execution_count": 368,
   "metadata": {},
   "outputs": [
    {
     "name": "stdout",
     "output_type": "stream",
     "text": [
      "Chi-squared: 94.26037538644832\n",
      "P-value: 3.941051460863924e-18\n"
     ]
    }
   ],
   "source": [
    "# Chi-Sqaured Test for Time Spent\n",
    "# Convert 'Time Spent to a categorical variable\n",
    "df['Time_Spent_CAT'] = pd.cut(df['Time Spent'], bins=[0, 10, 20, 30,40])\n",
    "\n",
    "# Create a contingency table\n",
    "contingency_table = pd.crosstab(df['Variant'], df['Time_Spent_CAT'])\n",
    "\n",
    "chi2, p_val, dof, expected = stats.chi2_contingency(contingency_table)\n",
    "\n",
    "print(f\"Chi-squared: {chi2}\")\n",
    "print(f\"P-value: {p_val}\")"
   ]
  },
  {
   "attachments": {},
   "cell_type": "markdown",
   "metadata": {},
   "source": [
    "The extremely low p-values for both CTR and Time Spent suggests significant difference between the features and the control group."
   ]
  },
  {
   "cell_type": "code",
   "execution_count": 369,
   "metadata": {},
   "outputs": [
    {
     "name": "stdout",
     "output_type": "stream",
     "text": [
      "F-statistic: 93.588915936227\n",
      "P-value: 5.638952705781955e-38\n"
     ]
    }
   ],
   "source": [
    "# ANOVA Test for Variants based on CTR mean\n",
    "Control = df[df['Variant'] == 'Control']['CTR']\n",
    "Var_A = df[df['Variant'] == 'Variant A']['CTR']\n",
    "Var_B = df[df['Variant'] == 'Variant B']['CTR']\n",
    "\n",
    "f_stat, p_val = stats.f_oneway(Control, Var_A, Var_B)\n",
    "\n",
    "print(f\"F-statistic: {f_stat}\")\n",
    "print(f\"P-value: {p_val}\")"
   ]
  },
  {
   "cell_type": "code",
   "execution_count": 370,
   "metadata": {},
   "outputs": [
    {
     "name": "stdout",
     "output_type": "stream",
     "text": [
      "F-statistic: 75.60840947416146\n",
      "P-value: 2.676826588910432e-31\n"
     ]
    }
   ],
   "source": [
    "# ANOVA Test for Variants based on Time Spent mean\n",
    "Control = df[df['Variant'] == 'Control']['Time Spent']\n",
    "Var_A = df[df['Variant'] == 'Variant A']['Time Spent']\n",
    "Var_B = df[df['Variant'] == 'Variant B']['Time Spent']\n",
    "\n",
    "f_stat, p_val = stats.f_oneway(Control, Var_A, Var_B)\n",
    "\n",
    "print(f\"F-statistic: {f_stat}\")\n",
    "print(f\"P-value: {p_val}\")"
   ]
  },
  {
   "attachments": {},
   "cell_type": "markdown",
   "metadata": {},
   "source": [
    "Once again, the extremely low p-values for both CTR and Time Spent suggests significant difference between the features and the control group."
   ]
  },
  {
   "cell_type": "code",
   "execution_count": 371,
   "metadata": {},
   "outputs": [
    {
     "name": "stdout",
     "output_type": "stream",
     "text": [
      "H statistic: 162.2144623750578\n",
      "The p-value of the test: 5.964541337211197e-36\n"
     ]
    }
   ],
   "source": [
    "# Kruskal-Wallis Test for CTR\n",
    "Control = df[df['Variant'] == 'Control']['CTR']\n",
    "Var_A = df[df['Variant'] == 'Variant A']['CTR']\n",
    "Var_B = df[df['Variant'] == 'Variant B']['CTR']\n",
    "\n",
    "H, pval = stats.kruskal(Control, Var_A, Var_B)\n",
    "\n",
    "print('H statistic:', H)\n",
    "print('The p-value of the test:', pval)"
   ]
  },
  {
   "cell_type": "code",
   "execution_count": 372,
   "metadata": {},
   "outputs": [
    {
     "name": "stdout",
     "output_type": "stream",
     "text": [
      "H statistic: 128.94233881092123\n",
      "The p-value of the test: 1.0012139345955057e-28\n"
     ]
    }
   ],
   "source": [
    "# Kruskal-Wallis Test for Time Spent\n",
    "Control = df[df['Variant'] == 'Control']['Time Spent']\n",
    "Var_A = df[df['Variant'] == 'Variant A']['Time Spent']\n",
    "Var_B = df[df['Variant'] == 'Variant B']['Time Spent']\n",
    "\n",
    "H, pval = stats.kruskal(Control, Var_A, Var_B)\n",
    "\n",
    "print('H statistic:', H)\n",
    "print('The p-value of the test:', pval)"
   ]
  },
  {
   "attachments": {},
   "cell_type": "markdown",
   "metadata": {},
   "source": [
    "To reconfirm the alternative hypothesis, the extremely low p-values for both CTR and Time Spent suggests significant difference between the features and the control group. Moreover, the H-Statistic Value for both CTR and Time Spent is greater than their corresponding Chi-Squared Values meaning that we can reject the Null Hypothesis.\n",
    "\n",
    "Therefore, we are inclined to believe that changes in the key features introduced in Variant A and Variant B will improve the performance metrics resulting in higher engagement of users."
   ]
  },
  {
   "attachments": {},
   "cell_type": "markdown",
   "metadata": {},
   "source": [
    "For making reccomendations, let us analyse the data based on other variables."
   ]
  },
  {
   "attachments": {},
   "cell_type": "markdown",
   "metadata": {},
   "source": [
    "For the continuous variables (Age) we can use histograms to understand spread. "
   ]
  },
  {
   "cell_type": "code",
   "execution_count": 373,
   "metadata": {},
   "outputs": [
    {
     "name": "stdout",
     "output_type": "stream",
     "text": [
      "0.0017494738491233058\n",
      "-1.2187764363137228\n"
     ]
    },
    {
     "data": {
      "image/png": "[encoded data removed]",
      "text/plain": [
       "<Figure size 640x480 with 1 Axes>"
      ]
     },
     "metadata": {},
     "output_type": "display_data"
    }
   ],
   "source": [
    "sns.histplot(df['Age'])\n",
    "print(stats.skew(df['Age']))\n",
    "print(stats.kurtosis(df['Age']))"
   ]
  },
  {
   "attachments": {},
   "cell_type": "markdown",
   "metadata": {},
   "source": [
    "The Age distribution seems fairly normal, with most common age being around 20. The skew for Age is 0.0017 which is fairly close to 0 and supports what we see (normal distribution). The kurtosis of Age is -1.22, which indicates Platykurtic distribution (thin tails), or less volatility. It indicates that the data is less peaked and has less extreme values than a normal distribution.\n",
    "\n",
    "To analyse if Age has any correlation with the CTR or Time Spent, we will conduct a Pearson's correlation test between Age and the other continous variables which respresent the performance metrics."
   ]
  },
  {
   "cell_type": "code",
   "execution_count": 374,
   "metadata": {},
   "outputs": [
    {
     "name": "stdout",
     "output_type": "stream",
     "text": [
      "Pearson's correlation Coefficient: -0.001080258334033944\n",
      "P-value: 0.9727830131432246\n"
     ]
    }
   ],
   "source": [
    "pearson_corr, p_val = stats.pearsonr(df['Age'], df['CTR'])\n",
    "\n",
    "print(f\"Pearson's correlation Coefficient: {pearson_corr}\")\n",
    "print(f\"P-value: {p_val}\")"
   ]
  },
  {
   "cell_type": "code",
   "execution_count": 375,
   "metadata": {},
   "outputs": [
    {
     "name": "stdout",
     "output_type": "stream",
     "text": [
      "Pearson's correlation Coefficient: 0.001970058767060921\n",
      "P-value: 0.9503869424928707\n"
     ]
    }
   ],
   "source": [
    "pearson_corr, p_val = stats.pearsonr(df['Age'], df['Time Spent'])\n",
    "\n",
    "print(f\"Pearson's correlation Coefficient: {pearson_corr}\")\n",
    "print(f\"P-value: {p_val}\")"
   ]
  },
  {
   "attachments": {},
   "cell_type": "markdown",
   "metadata": {},
   "source": [
    "Since, the Pearson's Correlation coefficients for both the comparisons are very close to 0, we can say that there is no significant relationship between Age and CTR/Time Spent. This means that the Age does not affect the CTR and Time Spent values of records."
   ]
  },
  {
   "attachments": {},
   "cell_type": "markdown",
   "metadata": {},
   "source": [
    "For categorical variables (Location, Device), we will use ANOVA tests to determine if there is a difference in the means of the performence metrics i.e. CTR and Time Spent when grouped by Location and Device type. This will allow us to decide whether the CTR and Time Spent are affected by the Location or Device type. So we will first define the Null Hypothesis that : There is no difference in CTR and Average Time Spent between the different Location and Device types."
   ]
  },
  {
   "cell_type": "code",
   "execution_count": 376,
   "metadata": {},
   "outputs": [
    {
     "name": "stdout",
     "output_type": "stream",
     "text": [
      "F-statistic: 0.5792245145655729\n",
      "P-value: 0.5605211716238133\n"
     ]
    }
   ],
   "source": [
    "# ANOVA Test for Location based on CTR\n",
    "Location1 = df[df['Location'] == 'Location1']['CTR']\n",
    "Location2 = df[df['Location'] == 'Location2']['CTR']\n",
    "Location3 = df[df['Location'] == 'Location3']['CTR']\n",
    "\n",
    "f_stat, p_val = stats.f_oneway(Location1, Location2, Location3)\n",
    "\n",
    "print(f\"F-statistic: {f_stat}\")\n",
    "print(f\"P-value: {p_val}\")"
   ]
  },
  {
   "cell_type": "code",
   "execution_count": 377,
   "metadata": {},
   "outputs": [
    {
     "name": "stdout",
     "output_type": "stream",
     "text": [
      "F-statistic: 0.053578839670573676\n",
      "P-value: 0.9478339402848069\n"
     ]
    }
   ],
   "source": [
    "# ANOVA Test for Location based on Time Spent\n",
    "Location1 = df[df['Location'] == 'Location1']['Time Spent']\n",
    "Location2 = df[df['Location'] == 'Location2']['Time Spent']\n",
    "Location3 = df[df['Location'] == 'Location3']['Time Spent']\n",
    "\n",
    "f_stat, p_val = stats.f_oneway(Location1, Location2, Location3)\n",
    "\n",
    "print(f\"F-statistic: {f_stat}\")\n",
    "print(f\"P-value: {p_val}\")"
   ]
  },
  {
   "cell_type": "code",
   "execution_count": 378,
   "metadata": {},
   "outputs": [
    {
     "name": "stdout",
     "output_type": "stream",
     "text": [
      "F-statistic: 0.7105872492654717\n",
      "P-value: 0.4916042399968955\n"
     ]
    }
   ],
   "source": [
    "# ANOVA Test for Devices based on CTR\n",
    "Device1 = df[df['Device'] == 'Device1']['CTR']\n",
    "Device2 = df[df['Device'] == 'Device2']['CTR']\n",
    "Device3 = df[df['Device'] == 'Device3']['CTR']\n",
    "\n",
    "f_stat, p_val = stats.f_oneway(Device1, Device2, Device3)\n",
    "\n",
    "print(f\"F-statistic: {f_stat}\")\n",
    "print(f\"P-value: {p_val}\")"
   ]
  },
  {
   "cell_type": "code",
   "execution_count": 379,
   "metadata": {},
   "outputs": [
    {
     "name": "stdout",
     "output_type": "stream",
     "text": [
      "F-statistic: 0.26645371811833884\n",
      "P-value: 0.7661459958744103\n"
     ]
    }
   ],
   "source": [
    "# ANOVA Test for Devices based on Time Spent\n",
    "Device1 = df[df['Device'] == 'Device1']['Time Spent']\n",
    "Device2 = df[df['Device'] == 'Device2']['Time Spent']\n",
    "Device3 = df[df['Device'] == 'Device3']['Time Spent']\n",
    "\n",
    "f_stat, p_val = stats.f_oneway(Device1, Device2, Device3)\n",
    "\n",
    "print(f\"F-statistic: {f_stat}\")\n",
    "print(f\"P-value: {p_val}\")"
   ]
  },
  {
   "attachments": {},
   "cell_type": "markdown",
   "metadata": {},
   "source": [
    "It can be seen that the p-values for all the ANOVA tests are quite large and greater than the critical value of 0.05. This means that the Null hypothesis is true - meaning that the CTR and Time Spent data is not affected by the different Device Type and Locations.\n"
   ]
  },
  {
   "attachments": {},
   "cell_type": "markdown",
   "metadata": {},
   "source": [
    "Question 3 : Summarize your results. Make a recommendation to the engineering team about which feature to deploy. \n",
    "\n",
    "Answer - Summary of results :\n",
    "\n",
    "1) Based on the statistical testing conducted using Chi-Squared, ANOVA, and Kruskal-Wallis tests, the results consistently indicate a significant difference between the features and the control group in terms of both CTR and Average Time Spent.\n",
    "2) Based on the analysis using T-test and Mann-Whitney U test, it appears that both CTR and Time Spent are higher for Variant A compared to Variant B. The p-values for both metrics are very low, indicating a significant difference between the two variants.\n",
    "3) Based on Pearson's correlation test between Age and CTR & Time Spent, there is no significant relationship between Age and CTR & Time Spent. This means that the Age does not affect the CTR and Time Spent values of records.\n",
    "4) Based on ANOVA tests to determine between Location & Device Type and the performence metrics i.e. CTR & Time Spent, we see that CTR & Time Spent are not affected by different Device Types and Locations.\n",
    "\n",
    "Recommendations to the engineering team -\n",
    " 1) I recommend deploying either of the features from Variant A or Variant B, as both have shown a statistically significant improvement in CTR and Average Time Spent compared to the control group.\n",
    " 2) However, if we were are restricted to deploying just one feature,  I would recommend deploying the feature from Variant A. This variant has shown higher engagement metrics in terms of CTR and Time Spent, suggesting that users are more likely to interact with and spend more time on the key feature implemented in Variant A."
   ]
  },
  {
   "attachments": {},
   "cell_type": "markdown",
   "metadata": {},
   "source": [
    "Question 4: Create a roll-out plan. How quickly will you introduce the feature to your audience?\n",
    "\n",
    "Answer -  \n",
    "\n",
    "1) Roll-out Approach:\n",
    "\n",
    "I suggest a simultaneous roll-out of both Variant A and Variant B to small segments of the user base and then closely monitoring the performance. This will allow for a direct comparison of the two variants in the real-world conditions and provide valuable insights into the relative effectiveness of each variant.\n",
    "\n",
    "2) Roll-out Plan:\n",
    "\n",
    "A) Initital Roll-out: Instead of introducing the features to the entire user base,I suggest releasing the features to a small portion of the user base, such as a specific geographic region or a random subset of users. This will allow for a close monitoring of the performance metrics, user feedback, and any potential issues that may arise. Then we can evaluate the impact of the feature on key metrics such as CTR and Time Spent. This period can vary depending on the size of the user base and the time required to gather sufficient data.\n",
    "\n",
    "B) Improvements: Based on the feedback and data collected during the initial roll-out, we can make improvements to the features by addressing the identified issues and enhancing the performance based on user feedback and data gathered.\n",
    "\n",
    "C) Full Roll-out: Once we are confident in the effectiveness and stability of the features, we can expand the roll-out to the larger user base. This can be done in phases or by gradually increasing the percentage of users who have access to the feature. Even after the full roll-out, we will need to monitor the performance of the features and collect user feedback. We will need to leverage this information to make further improvements to enhance the user experience and maximize the user engagement."
   ]
  },
  {
   "attachments": {},
   "cell_type": "markdown",
   "metadata": {},
   "source": []
  }
 ],
 "metadata": {
  "kernelspec": {
   "display_name": "Python 3",
   "language": "python",
   "name": "python3"
  },
  "language_info": {
   "codemirror_mode": {
    "name": "ipython",
    "version": 3
   },
   "file_extension": ".py",
   "mimetype": "text/x-python",
   "name": "python",
   "nbconvert_exporter": "python",
   "pygments_lexer": "ipython3",
   "version": "3.11.4"
  },
  "orig_nbformat": 4
 },
 "nbformat": 4,
 "nbformat_minor": 2
}
