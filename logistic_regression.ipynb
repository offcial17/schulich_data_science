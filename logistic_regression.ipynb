{
 "cells": [
  {
   "cell_type": "markdown",
   "metadata": {},
   "source": [
    "# Bulding a Logistic Regression model in Python\n",
    "\n",
    "Logistic Regression is a type of probabilistic classification model. It works best for a binary output (e.g., predicting whether someone has a disease or not; predicting if a credit card transaction is likely to be fraudulent or not; predicting whether someone is likely to survive the Titanic or not). \n",
    "\n",
    "## The difference between probability and likelihood\n",
    "\n",
    "### Probability\n",
    "\n",
    "Probability refers to finding the chance that something happens given a sample distribution of data. For example, if we collected income data from 100 people which was normally distributed and had the following characteristics: $$ \\mu = 50,000 $$ and $$ \\sigma = 5 ,000$$ we could calculate the *probability* that someone has a salary greater than $48,000. First we find the z-score: $$ z = {x - \\mu \\over \\sigma} $$ thus $$ z = {48,000 - 50,000 \\over 5,000} $$ which results in $$ z = -0.4 $$\n",
    "\n",
    "Then, we can look up the corresponding z-value in the z-table which equals 0.34458. Now we can calculate the probability that someone makes more than $48,000 by calculating $$P(>48,000) = 1-0.34458 = 0.65542$$ Therefore, there is a 65% chance a randomly selected person makes more than $48,000\n",
    "\n",
    "### Likelihood\n",
    "\n",
    "*Likelihood* flips the question around and essentially tries to figure out the best characteristics (probability distribution) of data given a particular value. For example, if we collected a bunch of income data (let's say 100 observations), and we observed that most of the observations are between $45,000 and $50,000, which distribution (normal, exponential, gamma) with what characteristics (mean, standard deviation) would maximize the likelihood that we observe what we observed? We could check a whole bunch of different distributions (e.g., normal distribution with mean of $30,000 and stdev of $2,000, OR normal distribution with mean of $48,000 and stdev of $3,000, and so on) and how they fit the data, and we would pick the distribution and characteristics which maximize the likelihood that we see what we saw in our data (i.e., if our collected data had an average income of $48,000, we would pick the distribution which has this average as well). Basically, we are trying to find the best distribution as opposed to already having the distribution available. Once we find the best distribution, we can calculate probabilities!\n",
    "\n",
    "### Maximum Likelihood Estimation\n",
    "\n",
    "In the real world, a common modelling problem is the question of estimating a joint probability distribution for a dataset. Density estimation would involve selecting a probability distribution function and the parameters that best explain the joint probability of observed data, so the obvious questions are: How should you choose the distribution function? How should you choose the parameters for the probability density function?\n",
    "\n",
    "Two common techniques are Maximum a Posteriori (MAP) and Maximum Likelihood Estimation (MLE). MLE assumes that all solutions are equally likely, while MAP takes into account prior information about the form of the solution.\n",
    "\n",
    "MLE treats the problem as an optimization problem (i.e., searching for the optimal solution). We wish to maximize the probability of observing the data from a joint probability distribution given a distribution and parameters that we already know. Mathematically this is stated as:\n",
    "\n",
    "$$ P(X | \\theta)$$ \n",
    "\n",
    "where theta is an unknown parameter. The resulting conditional probability is referred to as the *likelihood* of observing the data given the model parameters and uses the notation: \n",
    "$$L(X | \\theta)$$\n",
    "\n",
    "Calculating conditional probabilities, gven a sample comprises of n-examples, this can be framed as the joint probabilty of the observed data samples (x1, x2...xn) given the probability distribution parameters. The joint probability distribution can be restated as the multiplication of the conditional probability of observing each example, given the distribution parameters.\n",
    "\n",
    "Multiplying all the small probabilities, however, is time consuming, so we can restate this further as the sum of the log conditional probabilities of observing each example given the model parameters. This is what leads to the use of the term *log-likelihood function*.\n",
    "\n",
    "When we are *fitting* a machine learning model, we are essentially trying to estimate probability density - i.e., finding the best parameters or settings that explain the data. The Maximum Likelihood Estimation (MLE) framework is used for density estimation in both supervised and unsupervised models (and in neural nets) - it provides the basis for both Linear and Logistic Regression models. In summary, you can think of it as an optimization problem of searching a whole bunch of parameters in order to find the BEST parameters.\n",
    "\n",
    "\n",
    "### The good stuff - Logistic Regression\n",
    "\n",
    "You should use the slides to supplement your learning but this will be more detailed and probably better. Yes, you can use this for the exam. Yes, the exam will include content from this notebook (I guess you would only know that if you read this far already!!). Don't worry; I'll remind you to read it in class. Anyway, I digress...\n",
    "\n",
    "As discussed, logistic regression is used *primarily* for predicting binary classes (True/False, 0/1, Yes/No type of problems). Just like linear regression, logistic regression will have a function in the form of:\n",
    "$$ y = mx + b$$\n",
    "Where the coefficients will tell us information about how the input variables (x-values) impact our output variable (probability of Y / 1 / True). The main difference between logistic and linear regression, is that logistic regression will produce an output that is always between 0 and 1 (0 = 0% likelihood of an outcome happening; 1=100% likelihood of an outcome happening). This translates to the 0/1 binary outcome using a probability threshold - the default threshold is 50%, meaning that if the probability of an outcome is 50% or higher, it's classified as 1 (i.e., if the probability of a credit card transaction being fraudulent is calculated as 55%, it would be classified as a 1 or Yes or True).\n",
    "\n",
    "To calculate probabilities, we use the Sigmoid function (also called logistic function):\n",
    "\n",
    "$$ S(x) = {1 \\over 1+e^{-x}} $$\n",
    "\n",
    "The output is interpreted as a probability from a Binomial probability distribution function for the class labeled 0 or 1. In general when we produce the function which corresponds with the model, we are estimating the coefficients / parameters from the sample of observations that we have - in theory, these samples are representative of the population. We must always remember there will be 'noise' in the data, which is what we typically consider the errors. For logistic regression, we look at MLE to estimate parameters (if you remember, for Linear regression we discussed Least Squares Optimization - this is similar).\n",
    "\n",
    "#### Odds and log-odds\n",
    "\n",
    "Odds, if you read the slides, are often stated as wins or losses. For example, what are the odds of me drawing a Jack of Hearts from a deck of cards? We can convert the probabilility produced by the logistic regression model to \"odds of success\", defined as the probability of success divided by the probability of not success:\n",
    "$$ odds = {p \\over (1-p)}$$\n",
    "\n",
    "The logarithm is calculated as the log of the odds (hence, log-istic regression!):\n",
    "$$log odds = {log{p\\over (1-p)}}$$\n",
    "\n",
    "Quick review here on logs -- generally with log calculations we are trying to calculate an exponent which yields a value. For example \n",
    "\n",
    "$$log_28 = 3$$ \n",
    "because \n",
    "$$2^3 = 8$$\n",
    "\n",
    "When we are not provided a log base, we assume we're using e as the base, and e = 2.71\n",
    "\n",
    "Now if we put it all together (and if you remember my drawings on the board in class); we use the logit function (above) to project odds on a scale of -infinity to + infinity - this allows to project data onto a straight line (this is the blue line in the picture on Slide 10 of the notes). This gives us:\n",
    "\n",
    "$$y = mx + b$$\n",
    "\n",
    "We then optimize the coefficients of this straight line, using gradient descent for example (more on this in a later class... maybe next semester). Then, we use the sigmoid function to convert the -infinity to +infinity values BACK to a probability of 0-1, so we can actually classify our outputs. In sum, the objective of our model is to predict/output a probability of belonging to class 1 or not.\n",
    "\n",
    "\n",
    "In the real world, you won't have to do this by hand - but it's important to understand the logic/math behind all of the models we are learning.\n",
    "\n",
    "### The Coding Part\n",
    "\n",
    "Let's get to the good stuff. We'll start with probability and odds."
   ]
  },
  {
   "cell_type": "code",
   "execution_count": 131,
   "metadata": {},
   "outputs": [
    {
     "name": "stdout",
     "output_type": "stream",
     "text": [
      "P-value for z-score -0.4: 0.6554217416103242\n"
     ]
    }
   ],
   "source": [
    "import scipy.stats as stats\n",
    "\n",
    "# Given z-score\n",
    "z_score = -0.4\n",
    "\n",
    "# Calculate the p-value\n",
    "p_value = 1 - stats.norm.cdf(z_score)\n",
    "\n",
    "print(f\"P-value for z-score {z_score}: {p_value}\")\n"
   ]
  },
  {
   "cell_type": "code",
   "execution_count": 132,
   "metadata": {},
   "outputs": [
    {
     "name": "stdout",
     "output_type": "stream",
     "text": [
      "0.7\n",
      "2.333333333333333\n",
      "0.7\n"
     ]
    }
   ],
   "source": [
    "import math\n",
    "\n",
    "# define probability of success; \n",
    "# let's say, the probability I walk into class with a \n",
    "# coffee from Sbux on Wednesday\n",
    "p = 0.7\n",
    "print(p)\n",
    "#let's convert this to odds\n",
    "odds = p / (1-p)\n",
    "print(odds)\n",
    "#let's convert back to probability\n",
    "prob = odds / (odds + 1)\n",
    "print(prob)\n"
   ]
  },
  {
   "cell_type": "code",
   "execution_count": 133,
   "metadata": {},
   "outputs": [
    {
     "name": "stdout",
     "output_type": "stream",
     "text": [
      "0.7\n",
      "2.333333333333333\n",
      "0.8472978603872034\n",
      "0.7\n"
     ]
    }
   ],
   "source": [
    "#okay, next example - log odds; start with probability again\n",
    "p = 0.7\n",
    "print(p)\n",
    "#calculate odds\n",
    "odds = p / (1-p)\n",
    "print(odds)\n",
    "#convert to log-odds\n",
    "logodds = math.log(odds)\n",
    "print(logodds)\n",
    "#convert back to probability using sigmoid function\n",
    "prob = 1/(1+math.exp(-logodds))\n",
    "print(prob)"
   ]
  },
  {
   "cell_type": "markdown",
   "metadata": {},
   "source": [
    "Now let's start with estimating model parameters. Again, MLE is a framework we can use to estimate parameters. We are trying to maximize the conditional probability of observing the data (X) given a specific probability distribution and its parameters.\n",
    "\n",
    "For supervised learning, we can summarize the conditional probability as predicting the probability if the output, given the input:\n",
    "\n",
    "$$P(Y | X)$$\n",
    "\n",
    "To calculate maximum likelihood, we need start somewhere (i.e., make an assumption about the distribution). For logistic regression, we assume a Binomial distribution. Each example in a binomial distribution is a Bernoulli trial. Since the Bernoulli distribution has a single parameter (p), we can describe this as:\n",
    "\n",
    "$$P(y=1) = p$$\n",
    "$$P(y=0) = 1-p$$\n",
    "\n",
    "The mean of the Bernoulli distribution, therefore is:\n",
    "\n",
    "$$\\mu = P(y=1)*1 + P(y=0)*0$$\n",
    "\n",
    "THEREFORE, to calculate likelihood of a specific input, where the probability is given by our prediction function, we have:\n",
    "\n",
    "$$L = \\hat{y}*y + (1-\\hat{y})*(1-y)$$\n",
    "\n",
    "Let us test this function here:"
   ]
  },
  {
   "cell_type": "code",
   "execution_count": 134,
   "metadata": {},
   "outputs": [
    {
     "name": "stdout",
     "output_type": "stream",
     "text": [
      "0.9\n"
     ]
    }
   ],
   "source": [
    "def likelihood(y,yhat):\n",
    "    return yhat * y +(1-yhat)*(1-y)\n",
    "\n",
    "y, yhat = 1,0.9\n",
    "print(likelihood(y,yhat))"
   ]
  },
  {
   "cell_type": "markdown",
   "metadata": {},
   "source": [
    "Now we can transform the likelihood into LOG-likelihood by adding the log function:"
   ]
  },
  {
   "cell_type": "code",
   "execution_count": 135,
   "metadata": {},
   "outputs": [
    {
     "name": "stdout",
     "output_type": "stream",
     "text": [
      "-0.10536051565782628\n"
     ]
    }
   ],
   "source": [
    "loglikelihood = math.log(yhat)*y+math.log(1-yhat)*(1-y)\n",
    "print(loglikelihood)"
   ]
  },
  {
   "cell_type": "markdown",
   "metadata": {},
   "source": [
    "To find the maximum likelihood, we can sum up all of the logs of all the likelihoods. We would essentially start with a baseline model, and continue to iterate until we have a model that maximizes likelihood. Generally we can use gradient descent (we will cover this in a later session) to find the optimal coefficients. Let's build a logistic regression function from scratch for Titanic, and then we'll do it with the sklearn library."
   ]
  },
  {
   "cell_type": "code",
   "execution_count": 136,
   "metadata": {},
   "outputs": [],
   "source": [
    "import numpy as np\n",
    "\n",
    "#define a class which holds data and functions\n",
    "class LogisticRegression:\n",
    "    def __init__(self, x,y): #this is a function to initiate the class\n",
    "        self.intercept = np.ones((x.shape[0],1)) #create an array of ones same length as x variable, 1 column\n",
    "        self.x = np.concatenate((self.intercept,x),axis=1) #puts array of x values + array of ones side by side; note - x must be in array format\n",
    "        self.weight = np.zeros(self.x.shape[1]) #makes array of zeros with the same number of columns as x\n",
    "        self.y=y #output variable, also must be in array format\n",
    "\n",
    "    #sigmoid method\n",
    "    def sigmoid(self,x,weight):\n",
    "        z = np.dot(x,weight) #take the dot product of x-array, and weights \n",
    "        return 1 / (1+np.exp(-z)) #sigmoid function\n",
    "\n",
    "    #loss calculation\n",
    "    def loss(self, h, y): #y is the actual class; h is the probability of the class; this is the log loss function which we want to minimize\n",
    "        return (-y * np.log(h) - (1-y) *np.log(1-h)).mean() \n",
    "        \n",
    "    #gradient calculation\n",
    "    def gradient_descent(self, X, h, y): #gradient descent we use to minimize log function above, and find the best coefficients / straight line\n",
    "        return np.dot(X.T, (h-y)) / y.shape[0]\n",
    "        \n",
    "    #define fitting function\n",
    "    def fit(self, lr, iterations): #lr is the learning rate the model uses to determine the step size at each iteration while moving toward a minimum loss funciton - we'll cover this in gradient descent \n",
    "        for i in range(iterations): #basically we're doing a bunch of iterations; sigmoud, calculate loss, gradient descent\n",
    "            sigma = self.sigmoid(self.x,self.weight)\n",
    "            loss = self.loss(sigma,self.y)\n",
    "            dW = self.gradient_descent(self.x, sigma, self.y)\n",
    "\n",
    "            #update weights\n",
    "            self.weight -=lr*dW #then find best weights\n",
    "        return print(\"finito!\")\n",
    "        \n",
    "    #predict function\n",
    "    def predict(self,x_new,threshold): #fitting function, plus ability to set threshold\n",
    "        x_new = np.concatenate((self.intercept, x_new), axis=1) #repeat process above\n",
    "        result = self.sigmoid(x_new, self.weight)\n",
    "        result = result >= threshold #returns true/false if above threshold\n",
    "        y_pred = np.zeros(result.shape[0]) #create array of zeroes\n",
    "        for i in range(len(y_pred)):\n",
    "            if result[i] == True:\n",
    "                y_pred[i] =1 #replace 0 in array if probability is above threshold\n",
    "            else:\n",
    "                continue\n",
    "        return y_pred #return array\n"
   ]
  },
  {
   "cell_type": "markdown",
   "metadata": {},
   "source": [
    "Let's try this out on Titanic - and then we'll use the sklearn logistic regression function and also compare results with other classifiers."
   ]
  },
  {
   "cell_type": "code",
   "execution_count": 137,
   "metadata": {},
   "outputs": [],
   "source": [
    "from seaborn import load_dataset #titanic lives in seaborn\n",
    "import numpy as np\n",
    "import pandas as pd\n",
    "import seaborn as sns\n",
    "\n",
    "data = load_dataset('titanic')"
   ]
  },
  {
   "cell_type": "code",
   "execution_count": 138,
   "metadata": {},
   "outputs": [
    {
     "data": {
      "text/html": [
       "<div>\n",
       "<style scoped>\n",
       "    .dataframe tbody tr th:only-of-type {\n",
       "        vertical-align: middle;\n",
       "    }\n",
       "\n",
       "    .dataframe tbody tr th {\n",
       "        vertical-align: top;\n",
       "    }\n",
       "\n",
       "    .dataframe thead th {\n",
       "        text-align: right;\n",
       "    }\n",
       "</style>\n",
       "<table border=\"1\" class=\"dataframe\">\n",
       "  <thead>\n",
       "    <tr style=\"text-align: right;\">\n",
       "      <th></th>\n",
       "      <th>survived</th>\n",
       "      <th>pclass</th>\n",
       "      <th>sex</th>\n",
       "      <th>age</th>\n",
       "      <th>sibsp</th>\n",
       "      <th>parch</th>\n",
       "      <th>fare</th>\n",
       "      <th>embarked</th>\n",
       "      <th>class</th>\n",
       "      <th>who</th>\n",
       "      <th>adult_male</th>\n",
       "      <th>deck</th>\n",
       "      <th>embark_town</th>\n",
       "      <th>alive</th>\n",
       "      <th>alone</th>\n",
       "    </tr>\n",
       "  </thead>\n",
       "  <tbody>\n",
       "    <tr>\n",
       "      <th>0</th>\n",
       "      <td>0</td>\n",
       "      <td>3</td>\n",
       "      <td>male</td>\n",
       "      <td>22.0</td>\n",
       "      <td>1</td>\n",
       "      <td>0</td>\n",
       "      <td>7.2500</td>\n",
       "      <td>S</td>\n",
       "      <td>Third</td>\n",
       "      <td>man</td>\n",
       "      <td>True</td>\n",
       "      <td>NaN</td>\n",
       "      <td>Southampton</td>\n",
       "      <td>no</td>\n",
       "      <td>False</td>\n",
       "    </tr>\n",
       "    <tr>\n",
       "      <th>1</th>\n",
       "      <td>1</td>\n",
       "      <td>1</td>\n",
       "      <td>female</td>\n",
       "      <td>38.0</td>\n",
       "      <td>1</td>\n",
       "      <td>0</td>\n",
       "      <td>71.2833</td>\n",
       "      <td>C</td>\n",
       "      <td>First</td>\n",
       "      <td>woman</td>\n",
       "      <td>False</td>\n",
       "      <td>C</td>\n",
       "      <td>Cherbourg</td>\n",
       "      <td>yes</td>\n",
       "      <td>False</td>\n",
       "    </tr>\n",
       "    <tr>\n",
       "      <th>2</th>\n",
       "      <td>1</td>\n",
       "      <td>3</td>\n",
       "      <td>female</td>\n",
       "      <td>26.0</td>\n",
       "      <td>0</td>\n",
       "      <td>0</td>\n",
       "      <td>7.9250</td>\n",
       "      <td>S</td>\n",
       "      <td>Third</td>\n",
       "      <td>woman</td>\n",
       "      <td>False</td>\n",
       "      <td>NaN</td>\n",
       "      <td>Southampton</td>\n",
       "      <td>yes</td>\n",
       "      <td>True</td>\n",
       "    </tr>\n",
       "    <tr>\n",
       "      <th>3</th>\n",
       "      <td>1</td>\n",
       "      <td>1</td>\n",
       "      <td>female</td>\n",
       "      <td>35.0</td>\n",
       "      <td>1</td>\n",
       "      <td>0</td>\n",
       "      <td>53.1000</td>\n",
       "      <td>S</td>\n",
       "      <td>First</td>\n",
       "      <td>woman</td>\n",
       "      <td>False</td>\n",
       "      <td>C</td>\n",
       "      <td>Southampton</td>\n",
       "      <td>yes</td>\n",
       "      <td>False</td>\n",
       "    </tr>\n",
       "    <tr>\n",
       "      <th>4</th>\n",
       "      <td>0</td>\n",
       "      <td>3</td>\n",
       "      <td>male</td>\n",
       "      <td>35.0</td>\n",
       "      <td>0</td>\n",
       "      <td>0</td>\n",
       "      <td>8.0500</td>\n",
       "      <td>S</td>\n",
       "      <td>Third</td>\n",
       "      <td>man</td>\n",
       "      <td>True</td>\n",
       "      <td>NaN</td>\n",
       "      <td>Southampton</td>\n",
       "      <td>no</td>\n",
       "      <td>True</td>\n",
       "    </tr>\n",
       "  </tbody>\n",
       "</table>\n",
       "</div>"
      ],
      "text/plain": [
       "   survived  pclass     sex   age  sibsp  parch     fare embarked  class   \n",
       "0         0       3    male  22.0      1      0   7.2500        S  Third  \\\n",
       "1         1       1  female  38.0      1      0  71.2833        C  First   \n",
       "2         1       3  female  26.0      0      0   7.9250        S  Third   \n",
       "3         1       1  female  35.0      1      0  53.1000        S  First   \n",
       "4         0       3    male  35.0      0      0   8.0500        S  Third   \n",
       "\n",
       "     who  adult_male deck  embark_town alive  alone  \n",
       "0    man        True  NaN  Southampton    no  False  \n",
       "1  woman       False    C    Cherbourg   yes  False  \n",
       "2  woman       False  NaN  Southampton   yes   True  \n",
       "3  woman       False    C  Southampton   yes  False  \n",
       "4    man        True  NaN  Southampton    no   True  "
      ]
     },
     "execution_count": 138,
     "metadata": {},
     "output_type": "execute_result"
    }
   ],
   "source": [
    "data.head() #success! by the way, since i'm taking this from seaborn it's slightly different than the one we used in class\n"
   ]
  },
  {
   "cell_type": "code",
   "execution_count": 139,
   "metadata": {},
   "outputs": [
    {
     "name": "stdout",
     "output_type": "stream",
     "text": [
      "<class 'pandas.core.frame.DataFrame'>\n",
      "RangeIndex: 891 entries, 0 to 890\n",
      "Data columns (total 15 columns):\n",
      " #   Column       Non-Null Count  Dtype   \n",
      "---  ------       --------------  -----   \n",
      " 0   survived     891 non-null    int64   \n",
      " 1   pclass       891 non-null    int64   \n",
      " 2   sex          891 non-null    object  \n",
      " 3   age          714 non-null    float64 \n",
      " 4   sibsp        891 non-null    int64   \n",
      " 5   parch        891 non-null    int64   \n",
      " 6   fare         891 non-null    float64 \n",
      " 7   embarked     889 non-null    object  \n",
      " 8   class        891 non-null    category\n",
      " 9   who          891 non-null    object  \n",
      " 10  adult_male   891 non-null    bool    \n",
      " 11  deck         203 non-null    category\n",
      " 12  embark_town  889 non-null    object  \n",
      " 13  alive        891 non-null    object  \n",
      " 14  alone        891 non-null    bool    \n",
      "dtypes: bool(2), category(2), float64(2), int64(4), object(5)\n",
      "memory usage: 80.7+ KB\n"
     ]
    }
   ],
   "source": [
    "data.info() #missing data in Age, Embarked, Class, Deck, Embark Town"
   ]
  },
  {
   "cell_type": "code",
   "execution_count": 140,
   "metadata": {},
   "outputs": [
    {
     "data": {
      "text/html": [
       "<div>\n",
       "<style scoped>\n",
       "    .dataframe tbody tr th:only-of-type {\n",
       "        vertical-align: middle;\n",
       "    }\n",
       "\n",
       "    .dataframe tbody tr th {\n",
       "        vertical-align: top;\n",
       "    }\n",
       "\n",
       "    .dataframe thead th {\n",
       "        text-align: right;\n",
       "    }\n",
       "</style>\n",
       "<table border=\"1\" class=\"dataframe\">\n",
       "  <thead>\n",
       "    <tr style=\"text-align: right;\">\n",
       "      <th></th>\n",
       "      <th>missing_values</th>\n",
       "      <th>duplicates</th>\n",
       "      <th>data_types</th>\n",
       "      <th>unique_values</th>\n",
       "    </tr>\n",
       "  </thead>\n",
       "  <tbody>\n",
       "    <tr>\n",
       "      <th>survived</th>\n",
       "      <td>0</td>\n",
       "      <td>107</td>\n",
       "      <td>int64</td>\n",
       "      <td>2</td>\n",
       "    </tr>\n",
       "    <tr>\n",
       "      <th>pclass</th>\n",
       "      <td>0</td>\n",
       "      <td>107</td>\n",
       "      <td>int64</td>\n",
       "      <td>3</td>\n",
       "    </tr>\n",
       "    <tr>\n",
       "      <th>sex</th>\n",
       "      <td>0</td>\n",
       "      <td>107</td>\n",
       "      <td>object</td>\n",
       "      <td>2</td>\n",
       "    </tr>\n",
       "    <tr>\n",
       "      <th>age</th>\n",
       "      <td>177</td>\n",
       "      <td>107</td>\n",
       "      <td>float64</td>\n",
       "      <td>88</td>\n",
       "    </tr>\n",
       "    <tr>\n",
       "      <th>sibsp</th>\n",
       "      <td>0</td>\n",
       "      <td>107</td>\n",
       "      <td>int64</td>\n",
       "      <td>7</td>\n",
       "    </tr>\n",
       "    <tr>\n",
       "      <th>parch</th>\n",
       "      <td>0</td>\n",
       "      <td>107</td>\n",
       "      <td>int64</td>\n",
       "      <td>7</td>\n",
       "    </tr>\n",
       "    <tr>\n",
       "      <th>fare</th>\n",
       "      <td>0</td>\n",
       "      <td>107</td>\n",
       "      <td>float64</td>\n",
       "      <td>248</td>\n",
       "    </tr>\n",
       "    <tr>\n",
       "      <th>embarked</th>\n",
       "      <td>2</td>\n",
       "      <td>107</td>\n",
       "      <td>object</td>\n",
       "      <td>3</td>\n",
       "    </tr>\n",
       "    <tr>\n",
       "      <th>class</th>\n",
       "      <td>0</td>\n",
       "      <td>107</td>\n",
       "      <td>category</td>\n",
       "      <td>3</td>\n",
       "    </tr>\n",
       "    <tr>\n",
       "      <th>who</th>\n",
       "      <td>0</td>\n",
       "      <td>107</td>\n",
       "      <td>object</td>\n",
       "      <td>3</td>\n",
       "    </tr>\n",
       "    <tr>\n",
       "      <th>adult_male</th>\n",
       "      <td>0</td>\n",
       "      <td>107</td>\n",
       "      <td>bool</td>\n",
       "      <td>2</td>\n",
       "    </tr>\n",
       "    <tr>\n",
       "      <th>deck</th>\n",
       "      <td>688</td>\n",
       "      <td>107</td>\n",
       "      <td>category</td>\n",
       "      <td>7</td>\n",
       "    </tr>\n",
       "    <tr>\n",
       "      <th>embark_town</th>\n",
       "      <td>2</td>\n",
       "      <td>107</td>\n",
       "      <td>object</td>\n",
       "      <td>3</td>\n",
       "    </tr>\n",
       "    <tr>\n",
       "      <th>alive</th>\n",
       "      <td>0</td>\n",
       "      <td>107</td>\n",
       "      <td>object</td>\n",
       "      <td>2</td>\n",
       "    </tr>\n",
       "    <tr>\n",
       "      <th>alone</th>\n",
       "      <td>0</td>\n",
       "      <td>107</td>\n",
       "      <td>bool</td>\n",
       "      <td>2</td>\n",
       "    </tr>\n",
       "  </tbody>\n",
       "</table>\n",
       "</div>"
      ],
      "text/plain": [
       "             missing_values  duplicates data_types  unique_values\n",
       "survived                  0         107      int64              2\n",
       "pclass                    0         107      int64              3\n",
       "sex                       0         107     object              2\n",
       "age                     177         107    float64             88\n",
       "sibsp                     0         107      int64              7\n",
       "parch                     0         107      int64              7\n",
       "fare                      0         107    float64            248\n",
       "embarked                  2         107     object              3\n",
       "class                     0         107   category              3\n",
       "who                       0         107     object              3\n",
       "adult_male                0         107       bool              2\n",
       "deck                    688         107   category              7\n",
       "embark_town               2         107     object              3\n",
       "alive                     0         107     object              2\n",
       "alone                     0         107       bool              2"
      ]
     },
     "execution_count": 140,
     "metadata": {},
     "output_type": "execute_result"
    }
   ],
   "source": [
    "missing_values = (data.isnull()+data.isna()).sum()\n",
    "duplicates = data.duplicated().sum()\n",
    "dtypes = data.dtypes\n",
    "unique = data.nunique()\n",
    "\n",
    "insights = pd.DataFrame({\n",
    "    'missing_values' : missing_values,\n",
    "    'duplicates': duplicates,\n",
    "    'data_types': dtypes,\n",
    "    'unique_values': unique\n",
    "})\n",
    "insights"
   ]
  },
  {
   "cell_type": "markdown",
   "metadata": {},
   "source": [
    "#### Cleaning and transforming data\n",
    "\n",
    "Let's get rid of thte deck column - not useful, too many missing values. We can also remove the adult_male column, since it's redundant to sex. We can remove 'alive' since we don't care how long survivors lived, and it's redundant to survive. We can remove 'alone'. Remove Embark_town since it's redundant with Embarked. We can fill in missing values for Age and for Embarked. Also let's get rid of \"who\", names won't be relevant here."
   ]
  },
  {
   "cell_type": "code",
   "execution_count": 141,
   "metadata": {},
   "outputs": [],
   "source": [
    "data.drop(['alive','alone','embark_town','who','adult_male','deck','class'], axis=1,inplace=True)"
   ]
  },
  {
   "cell_type": "code",
   "execution_count": 142,
   "metadata": {},
   "outputs": [
    {
     "data": {
      "text/html": [
       "<div>\n",
       "<style scoped>\n",
       "    .dataframe tbody tr th:only-of-type {\n",
       "        vertical-align: middle;\n",
       "    }\n",
       "\n",
       "    .dataframe tbody tr th {\n",
       "        vertical-align: top;\n",
       "    }\n",
       "\n",
       "    .dataframe thead th {\n",
       "        text-align: right;\n",
       "    }\n",
       "</style>\n",
       "<table border=\"1\" class=\"dataframe\">\n",
       "  <thead>\n",
       "    <tr style=\"text-align: right;\">\n",
       "      <th></th>\n",
       "      <th>survived</th>\n",
       "      <th>pclass</th>\n",
       "      <th>sex</th>\n",
       "      <th>age</th>\n",
       "      <th>sibsp</th>\n",
       "      <th>parch</th>\n",
       "      <th>fare</th>\n",
       "      <th>embarked</th>\n",
       "    </tr>\n",
       "  </thead>\n",
       "  <tbody>\n",
       "    <tr>\n",
       "      <th>0</th>\n",
       "      <td>0</td>\n",
       "      <td>3</td>\n",
       "      <td>male</td>\n",
       "      <td>22.0</td>\n",
       "      <td>1</td>\n",
       "      <td>0</td>\n",
       "      <td>7.2500</td>\n",
       "      <td>S</td>\n",
       "    </tr>\n",
       "    <tr>\n",
       "      <th>1</th>\n",
       "      <td>1</td>\n",
       "      <td>1</td>\n",
       "      <td>female</td>\n",
       "      <td>38.0</td>\n",
       "      <td>1</td>\n",
       "      <td>0</td>\n",
       "      <td>71.2833</td>\n",
       "      <td>C</td>\n",
       "    </tr>\n",
       "    <tr>\n",
       "      <th>2</th>\n",
       "      <td>1</td>\n",
       "      <td>3</td>\n",
       "      <td>female</td>\n",
       "      <td>26.0</td>\n",
       "      <td>0</td>\n",
       "      <td>0</td>\n",
       "      <td>7.9250</td>\n",
       "      <td>S</td>\n",
       "    </tr>\n",
       "    <tr>\n",
       "      <th>3</th>\n",
       "      <td>1</td>\n",
       "      <td>1</td>\n",
       "      <td>female</td>\n",
       "      <td>35.0</td>\n",
       "      <td>1</td>\n",
       "      <td>0</td>\n",
       "      <td>53.1000</td>\n",
       "      <td>S</td>\n",
       "    </tr>\n",
       "    <tr>\n",
       "      <th>4</th>\n",
       "      <td>0</td>\n",
       "      <td>3</td>\n",
       "      <td>male</td>\n",
       "      <td>35.0</td>\n",
       "      <td>0</td>\n",
       "      <td>0</td>\n",
       "      <td>8.0500</td>\n",
       "      <td>S</td>\n",
       "    </tr>\n",
       "    <tr>\n",
       "      <th>...</th>\n",
       "      <td>...</td>\n",
       "      <td>...</td>\n",
       "      <td>...</td>\n",
       "      <td>...</td>\n",
       "      <td>...</td>\n",
       "      <td>...</td>\n",
       "      <td>...</td>\n",
       "      <td>...</td>\n",
       "    </tr>\n",
       "    <tr>\n",
       "      <th>886</th>\n",
       "      <td>0</td>\n",
       "      <td>2</td>\n",
       "      <td>male</td>\n",
       "      <td>27.0</td>\n",
       "      <td>0</td>\n",
       "      <td>0</td>\n",
       "      <td>13.0000</td>\n",
       "      <td>S</td>\n",
       "    </tr>\n",
       "    <tr>\n",
       "      <th>887</th>\n",
       "      <td>1</td>\n",
       "      <td>1</td>\n",
       "      <td>female</td>\n",
       "      <td>19.0</td>\n",
       "      <td>0</td>\n",
       "      <td>0</td>\n",
       "      <td>30.0000</td>\n",
       "      <td>S</td>\n",
       "    </tr>\n",
       "    <tr>\n",
       "      <th>888</th>\n",
       "      <td>0</td>\n",
       "      <td>3</td>\n",
       "      <td>female</td>\n",
       "      <td>NaN</td>\n",
       "      <td>1</td>\n",
       "      <td>2</td>\n",
       "      <td>23.4500</td>\n",
       "      <td>S</td>\n",
       "    </tr>\n",
       "    <tr>\n",
       "      <th>889</th>\n",
       "      <td>1</td>\n",
       "      <td>1</td>\n",
       "      <td>male</td>\n",
       "      <td>26.0</td>\n",
       "      <td>0</td>\n",
       "      <td>0</td>\n",
       "      <td>30.0000</td>\n",
       "      <td>C</td>\n",
       "    </tr>\n",
       "    <tr>\n",
       "      <th>890</th>\n",
       "      <td>0</td>\n",
       "      <td>3</td>\n",
       "      <td>male</td>\n",
       "      <td>32.0</td>\n",
       "      <td>0</td>\n",
       "      <td>0</td>\n",
       "      <td>7.7500</td>\n",
       "      <td>Q</td>\n",
       "    </tr>\n",
       "  </tbody>\n",
       "</table>\n",
       "<p>891 rows × 8 columns</p>\n",
       "</div>"
      ],
      "text/plain": [
       "     survived  pclass     sex   age  sibsp  parch     fare embarked\n",
       "0           0       3    male  22.0      1      0   7.2500        S\n",
       "1           1       1  female  38.0      1      0  71.2833        C\n",
       "2           1       3  female  26.0      0      0   7.9250        S\n",
       "3           1       1  female  35.0      1      0  53.1000        S\n",
       "4           0       3    male  35.0      0      0   8.0500        S\n",
       "..        ...     ...     ...   ...    ...    ...      ...      ...\n",
       "886         0       2    male  27.0      0      0  13.0000        S\n",
       "887         1       1  female  19.0      0      0  30.0000        S\n",
       "888         0       3  female   NaN      1      2  23.4500        S\n",
       "889         1       1    male  26.0      0      0  30.0000        C\n",
       "890         0       3    male  32.0      0      0   7.7500        Q\n",
       "\n",
       "[891 rows x 8 columns]"
      ]
     },
     "execution_count": 142,
     "metadata": {},
     "output_type": "execute_result"
    }
   ],
   "source": [
    "data"
   ]
  },
  {
   "cell_type": "markdown",
   "metadata": {},
   "source": [
    "We can fill in missing data for Age, using median by sex - this is probably the safest approach. For Embarked, we can just find the most popular value."
   ]
  },
  {
   "cell_type": "code",
   "execution_count": 143,
   "metadata": {},
   "outputs": [
    {
     "data": {
      "text/html": [
       "<div>\n",
       "<style scoped>\n",
       "    .dataframe tbody tr th:only-of-type {\n",
       "        vertical-align: middle;\n",
       "    }\n",
       "\n",
       "    .dataframe tbody tr th {\n",
       "        vertical-align: top;\n",
       "    }\n",
       "\n",
       "    .dataframe thead th {\n",
       "        text-align: right;\n",
       "    }\n",
       "</style>\n",
       "<table border=\"1\" class=\"dataframe\">\n",
       "  <thead>\n",
       "    <tr style=\"text-align: right;\">\n",
       "      <th></th>\n",
       "      <th>survived</th>\n",
       "      <th>pclass</th>\n",
       "      <th>sex</th>\n",
       "      <th>age</th>\n",
       "      <th>sibsp</th>\n",
       "      <th>parch</th>\n",
       "      <th>fare</th>\n",
       "    </tr>\n",
       "    <tr>\n",
       "      <th>embarked</th>\n",
       "      <th></th>\n",
       "      <th></th>\n",
       "      <th></th>\n",
       "      <th></th>\n",
       "      <th></th>\n",
       "      <th></th>\n",
       "      <th></th>\n",
       "    </tr>\n",
       "  </thead>\n",
       "  <tbody>\n",
       "    <tr>\n",
       "      <th>C</th>\n",
       "      <td>168</td>\n",
       "      <td>168</td>\n",
       "      <td>168</td>\n",
       "      <td>130</td>\n",
       "      <td>168</td>\n",
       "      <td>168</td>\n",
       "      <td>168</td>\n",
       "    </tr>\n",
       "    <tr>\n",
       "      <th>Q</th>\n",
       "      <td>77</td>\n",
       "      <td>77</td>\n",
       "      <td>77</td>\n",
       "      <td>28</td>\n",
       "      <td>77</td>\n",
       "      <td>77</td>\n",
       "      <td>77</td>\n",
       "    </tr>\n",
       "    <tr>\n",
       "      <th>S</th>\n",
       "      <td>644</td>\n",
       "      <td>644</td>\n",
       "      <td>644</td>\n",
       "      <td>554</td>\n",
       "      <td>644</td>\n",
       "      <td>644</td>\n",
       "      <td>644</td>\n",
       "    </tr>\n",
       "  </tbody>\n",
       "</table>\n",
       "</div>"
      ],
      "text/plain": [
       "          survived  pclass  sex  age  sibsp  parch  fare\n",
       "embarked                                                \n",
       "C              168     168  168  130    168    168   168\n",
       "Q               77      77   77   28     77     77    77\n",
       "S              644     644  644  554    644    644   644"
      ]
     },
     "execution_count": 143,
     "metadata": {},
     "output_type": "execute_result"
    }
   ],
   "source": [
    "data.groupby('embarked').count()"
   ]
  },
  {
   "cell_type": "code",
   "execution_count": 144,
   "metadata": {},
   "outputs": [],
   "source": [
    "data['age'] = data['age'].fillna(data.groupby('sex')['age'].transform('median'))"
   ]
  },
  {
   "cell_type": "code",
   "execution_count": 145,
   "metadata": {},
   "outputs": [],
   "source": [
    "data['embarked'] = data['embarked'].fillna('S')"
   ]
  },
  {
   "cell_type": "code",
   "execution_count": 146,
   "metadata": {},
   "outputs": [
    {
     "name": "stdout",
     "output_type": "stream",
     "text": [
      "<class 'pandas.core.frame.DataFrame'>\n",
      "RangeIndex: 891 entries, 0 to 890\n",
      "Data columns (total 8 columns):\n",
      " #   Column    Non-Null Count  Dtype  \n",
      "---  ------    --------------  -----  \n",
      " 0   survived  891 non-null    int64  \n",
      " 1   pclass    891 non-null    int64  \n",
      " 2   sex       891 non-null    object \n",
      " 3   age       891 non-null    float64\n",
      " 4   sibsp     891 non-null    int64  \n",
      " 5   parch     891 non-null    int64  \n",
      " 6   fare      891 non-null    float64\n",
      " 7   embarked  891 non-null    object \n",
      "dtypes: float64(2), int64(4), object(2)\n",
      "memory usage: 55.8+ KB\n"
     ]
    }
   ],
   "source": [
    "data.info()"
   ]
  },
  {
   "cell_type": "code",
   "execution_count": 147,
   "metadata": {},
   "outputs": [
    {
     "name": "stdout",
     "output_type": "stream",
     "text": [
      "<class 'pandas.core.frame.DataFrame'>\n",
      "Index: 777 entries, 0 to 890\n",
      "Data columns (total 8 columns):\n",
      " #   Column    Non-Null Count  Dtype  \n",
      "---  ------    --------------  -----  \n",
      " 0   survived  777 non-null    int64  \n",
      " 1   pclass    777 non-null    int64  \n",
      " 2   sex       777 non-null    object \n",
      " 3   age       777 non-null    float64\n",
      " 4   sibsp     777 non-null    int64  \n",
      " 5   parch     777 non-null    int64  \n",
      " 6   fare      777 non-null    float64\n",
      " 7   embarked  777 non-null    object \n",
      "dtypes: float64(2), int64(4), object(2)\n",
      "memory usage: 54.6+ KB\n"
     ]
    }
   ],
   "source": [
    "data = data.drop_duplicates()\n",
    "data.info()"
   ]
  },
  {
   "cell_type": "markdown",
   "metadata": {},
   "source": [
    "Now let's make dummy variables for Embarked and Sex."
   ]
  },
  {
   "cell_type": "code",
   "execution_count": 148,
   "metadata": {},
   "outputs": [],
   "source": [
    "sex_dummies = pd.get_dummies(data['sex'])\n",
    "embarked_dummies = pd.get_dummies(data['embarked'])"
   ]
  },
  {
   "cell_type": "code",
   "execution_count": 149,
   "metadata": {},
   "outputs": [],
   "source": [
    "data = pd.concat([data,sex_dummies,embarked_dummies],axis=1)"
   ]
  },
  {
   "cell_type": "code",
   "execution_count": 150,
   "metadata": {},
   "outputs": [],
   "source": [
    "#drop old columns\n",
    "data.drop(['sex','embarked'],axis=1, inplace=True)"
   ]
  },
  {
   "cell_type": "code",
   "execution_count": 151,
   "metadata": {},
   "outputs": [
    {
     "data": {
      "text/html": [
       "<div>\n",
       "<style scoped>\n",
       "    .dataframe tbody tr th:only-of-type {\n",
       "        vertical-align: middle;\n",
       "    }\n",
       "\n",
       "    .dataframe tbody tr th {\n",
       "        vertical-align: top;\n",
       "    }\n",
       "\n",
       "    .dataframe thead th {\n",
       "        text-align: right;\n",
       "    }\n",
       "</style>\n",
       "<table border=\"1\" class=\"dataframe\">\n",
       "  <thead>\n",
       "    <tr style=\"text-align: right;\">\n",
       "      <th></th>\n",
       "      <th>survived</th>\n",
       "      <th>pclass</th>\n",
       "      <th>age</th>\n",
       "      <th>sibsp</th>\n",
       "      <th>parch</th>\n",
       "      <th>fare</th>\n",
       "      <th>female</th>\n",
       "      <th>male</th>\n",
       "      <th>C</th>\n",
       "      <th>Q</th>\n",
       "      <th>S</th>\n",
       "    </tr>\n",
       "  </thead>\n",
       "  <tbody>\n",
       "    <tr>\n",
       "      <th>0</th>\n",
       "      <td>0</td>\n",
       "      <td>3</td>\n",
       "      <td>22.0</td>\n",
       "      <td>1</td>\n",
       "      <td>0</td>\n",
       "      <td>7.2500</td>\n",
       "      <td>False</td>\n",
       "      <td>True</td>\n",
       "      <td>False</td>\n",
       "      <td>False</td>\n",
       "      <td>True</td>\n",
       "    </tr>\n",
       "    <tr>\n",
       "      <th>1</th>\n",
       "      <td>1</td>\n",
       "      <td>1</td>\n",
       "      <td>38.0</td>\n",
       "      <td>1</td>\n",
       "      <td>0</td>\n",
       "      <td>71.2833</td>\n",
       "      <td>True</td>\n",
       "      <td>False</td>\n",
       "      <td>True</td>\n",
       "      <td>False</td>\n",
       "      <td>False</td>\n",
       "    </tr>\n",
       "    <tr>\n",
       "      <th>2</th>\n",
       "      <td>1</td>\n",
       "      <td>3</td>\n",
       "      <td>26.0</td>\n",
       "      <td>0</td>\n",
       "      <td>0</td>\n",
       "      <td>7.9250</td>\n",
       "      <td>True</td>\n",
       "      <td>False</td>\n",
       "      <td>False</td>\n",
       "      <td>False</td>\n",
       "      <td>True</td>\n",
       "    </tr>\n",
       "    <tr>\n",
       "      <th>3</th>\n",
       "      <td>1</td>\n",
       "      <td>1</td>\n",
       "      <td>35.0</td>\n",
       "      <td>1</td>\n",
       "      <td>0</td>\n",
       "      <td>53.1000</td>\n",
       "      <td>True</td>\n",
       "      <td>False</td>\n",
       "      <td>False</td>\n",
       "      <td>False</td>\n",
       "      <td>True</td>\n",
       "    </tr>\n",
       "    <tr>\n",
       "      <th>4</th>\n",
       "      <td>0</td>\n",
       "      <td>3</td>\n",
       "      <td>35.0</td>\n",
       "      <td>0</td>\n",
       "      <td>0</td>\n",
       "      <td>8.0500</td>\n",
       "      <td>False</td>\n",
       "      <td>True</td>\n",
       "      <td>False</td>\n",
       "      <td>False</td>\n",
       "      <td>True</td>\n",
       "    </tr>\n",
       "    <tr>\n",
       "      <th>...</th>\n",
       "      <td>...</td>\n",
       "      <td>...</td>\n",
       "      <td>...</td>\n",
       "      <td>...</td>\n",
       "      <td>...</td>\n",
       "      <td>...</td>\n",
       "      <td>...</td>\n",
       "      <td>...</td>\n",
       "      <td>...</td>\n",
       "      <td>...</td>\n",
       "      <td>...</td>\n",
       "    </tr>\n",
       "    <tr>\n",
       "      <th>885</th>\n",
       "      <td>0</td>\n",
       "      <td>3</td>\n",
       "      <td>39.0</td>\n",
       "      <td>0</td>\n",
       "      <td>5</td>\n",
       "      <td>29.1250</td>\n",
       "      <td>True</td>\n",
       "      <td>False</td>\n",
       "      <td>False</td>\n",
       "      <td>True</td>\n",
       "      <td>False</td>\n",
       "    </tr>\n",
       "    <tr>\n",
       "      <th>887</th>\n",
       "      <td>1</td>\n",
       "      <td>1</td>\n",
       "      <td>19.0</td>\n",
       "      <td>0</td>\n",
       "      <td>0</td>\n",
       "      <td>30.0000</td>\n",
       "      <td>True</td>\n",
       "      <td>False</td>\n",
       "      <td>False</td>\n",
       "      <td>False</td>\n",
       "      <td>True</td>\n",
       "    </tr>\n",
       "    <tr>\n",
       "      <th>888</th>\n",
       "      <td>0</td>\n",
       "      <td>3</td>\n",
       "      <td>27.0</td>\n",
       "      <td>1</td>\n",
       "      <td>2</td>\n",
       "      <td>23.4500</td>\n",
       "      <td>True</td>\n",
       "      <td>False</td>\n",
       "      <td>False</td>\n",
       "      <td>False</td>\n",
       "      <td>True</td>\n",
       "    </tr>\n",
       "    <tr>\n",
       "      <th>889</th>\n",
       "      <td>1</td>\n",
       "      <td>1</td>\n",
       "      <td>26.0</td>\n",
       "      <td>0</td>\n",
       "      <td>0</td>\n",
       "      <td>30.0000</td>\n",
       "      <td>False</td>\n",
       "      <td>True</td>\n",
       "      <td>True</td>\n",
       "      <td>False</td>\n",
       "      <td>False</td>\n",
       "    </tr>\n",
       "    <tr>\n",
       "      <th>890</th>\n",
       "      <td>0</td>\n",
       "      <td>3</td>\n",
       "      <td>32.0</td>\n",
       "      <td>0</td>\n",
       "      <td>0</td>\n",
       "      <td>7.7500</td>\n",
       "      <td>False</td>\n",
       "      <td>True</td>\n",
       "      <td>False</td>\n",
       "      <td>True</td>\n",
       "      <td>False</td>\n",
       "    </tr>\n",
       "  </tbody>\n",
       "</table>\n",
       "<p>777 rows × 11 columns</p>\n",
       "</div>"
      ],
      "text/plain": [
       "     survived  pclass   age  sibsp  parch     fare  female   male      C   \n",
       "0           0       3  22.0      1      0   7.2500   False   True  False  \\\n",
       "1           1       1  38.0      1      0  71.2833    True  False   True   \n",
       "2           1       3  26.0      0      0   7.9250    True  False  False   \n",
       "3           1       1  35.0      1      0  53.1000    True  False  False   \n",
       "4           0       3  35.0      0      0   8.0500   False   True  False   \n",
       "..        ...     ...   ...    ...    ...      ...     ...    ...    ...   \n",
       "885         0       3  39.0      0      5  29.1250    True  False  False   \n",
       "887         1       1  19.0      0      0  30.0000    True  False  False   \n",
       "888         0       3  27.0      1      2  23.4500    True  False  False   \n",
       "889         1       1  26.0      0      0  30.0000   False   True   True   \n",
       "890         0       3  32.0      0      0   7.7500   False   True  False   \n",
       "\n",
       "         Q      S  \n",
       "0    False   True  \n",
       "1    False  False  \n",
       "2    False   True  \n",
       "3    False   True  \n",
       "4    False   True  \n",
       "..     ...    ...  \n",
       "885   True  False  \n",
       "887  False   True  \n",
       "888  False   True  \n",
       "889  False  False  \n",
       "890   True  False  \n",
       "\n",
       "[777 rows x 11 columns]"
      ]
     },
     "execution_count": 151,
     "metadata": {},
     "output_type": "execute_result"
    }
   ],
   "source": [
    "data"
   ]
  },
  {
   "cell_type": "markdown",
   "metadata": {},
   "source": [
    "Now we are ready. Let's try the model. Remember, we should convert our variables to numpy arrays."
   ]
  },
  {
   "cell_type": "code",
   "execution_count": 152,
   "metadata": {},
   "outputs": [],
   "source": [
    "X = np.array(data[['pclass', 'age', 'sibsp', 'parch', 'fare', 'female', 'male','C', 'Q', 'S']])\n",
    "y = np.array(data.survived)"
   ]
  },
  {
   "cell_type": "code",
   "execution_count": 201,
   "metadata": {},
   "outputs": [
    {
     "name": "stdout",
     "output_type": "stream",
     "text": [
      "Accuracy: 0.7692307692307693\n",
      "Classification Report:\n",
      "               precision    recall  f1-score   support\n",
      "\n",
      "           0       0.77      0.84      0.80        88\n",
      "           1       0.77      0.68      0.72        68\n",
      "\n",
      "    accuracy                           0.77       156\n",
      "   macro avg       0.77      0.76      0.76       156\n",
      "weighted avg       0.77      0.77      0.77       156\n",
      "\n"
     ]
    }
   ],
   "source": [
    "import pandas as pd\n",
    "from sklearn.model_selection import train_test_split\n",
    "from sklearn.preprocessing import StandardScaler\n",
    "from sklearn.linear_model import LogisticRegression\n",
    "from sklearn.metrics import accuracy_score, classification_report\n",
    "\n",
    "\n",
    "# Split the data into training and testing sets\n",
    "X_train, X_test, y_train, y_test = train_test_split(X, y, test_size=0.2, random_state=42)\n",
    "\n",
    "# Standardize the features (optional but often recommended)\n",
    "scaler = StandardScaler()\n",
    "X_train_scaled = scaler.fit_transform(X_train)\n",
    "X_test_scaled = scaler.transform(X_test)\n",
    "\n",
    "# Create a logistic regression model\n",
    "logreg = LogisticRegression()\n",
    "\n",
    "# Fit the model to the training data\n",
    "logreg.fit(X_train_scaled, y_train)\n",
    "\n",
    "# Make predictions on the test data\n",
    "y_pred = logreg.predict(X_test_scaled)\n",
    "\n",
    "# Evaluate the model\n",
    "accuracy = accuracy_score(y_test, y_pred)\n",
    "report = classification_report(y_test, y_pred)\n",
    "\n",
    "print(\"Accuracy:\", accuracy)\n",
    "print(\"Classification Report:\\n\", report)\n"
   ]
  },
  {
   "cell_type": "markdown",
   "metadata": {},
   "source": [
    "The second model worked much better - I changed the learning rate to 0.3, and also reduced the number of input variables to Fare, Female (y/n), and Age. So... hopefully this gives you a good view of how we create a logistic regression. Of course we don't need to do this in the real world, so now let's use sklearn's regression and compare the results to Naive Bayes and KNN."
   ]
  },
  {
   "cell_type": "code",
   "execution_count": 175,
   "metadata": {},
   "outputs": [],
   "source": [
    "import statsmodels.api as sm\n",
    "from sklearn.linear_model import LogisticRegression\n",
    "from sklearn.naive_bayes import GaussianNB\n",
    "from sklearn.neighbors import KNeighborsClassifier\n",
    "from sklearn.model_selection import train_test_split\n",
    "from sklearn.metrics import accuracy_score, f1_score, precision_score,auc, roc_curve, roc_auc_score, precision_recall_curve, confusion_matrix, recall_score\n"
   ]
  },
  {
   "cell_type": "code",
   "execution_count": 199,
   "metadata": {},
   "outputs": [],
   "source": [
    "# there are many more hyperparameters we can adjust in this version, \n",
    "# such as regularization terms (we'll cover this in a later module)\n",
    "# weights, solver type, etc. for now, we'll keep the default settings\n",
    "\n",
    "log = LogisticRegression(max_iter=1000)\n",
    "nb = GaussianNB()\n",
    "knn = KNeighborsClassifier() #default neighbours is 5"
   ]
  },
  {
   "cell_type": "code",
   "execution_count": 177,
   "metadata": {},
   "outputs": [],
   "source": [
    "#split the data\n",
    "#x_train, x_test, y_train, y_test = train_test_split(x,y, test_size=0.2)"
   ]
  },
  {
   "cell_type": "code",
   "execution_count": 178,
   "metadata": {},
   "outputs": [
    {
     "data": {
      "text/html": [
       "<style>#sk-container-id-9 {color: black;background-color: white;}#sk-container-id-9 pre{padding: 0;}#sk-container-id-9 div.sk-toggleable {background-color: white;}#sk-container-id-9 label.sk-toggleable__label {cursor: pointer;display: block;width: 100%;margin-bottom: 0;padding: 0.3em;box-sizing: border-box;text-align: center;}#sk-container-id-9 label.sk-toggleable__label-arrow:before {content: \"▸\";float: left;margin-right: 0.25em;color: #696969;}#sk-container-id-9 label.sk-toggleable__label-arrow:hover:before {color: black;}#sk-container-id-9 div.sk-estimator:hover label.sk-toggleable__label-arrow:before {color: black;}#sk-container-id-9 div.sk-toggleable__content {max-height: 0;max-width: 0;overflow: hidden;text-align: left;background-color: #f0f8ff;}#sk-container-id-9 div.sk-toggleable__content pre {margin: 0.2em;color: black;border-radius: 0.25em;background-color: #f0f8ff;}#sk-container-id-9 input.sk-toggleable__control:checked~div.sk-toggleable__content {max-height: 200px;max-width: 100%;overflow: auto;}#sk-container-id-9 input.sk-toggleable__control:checked~label.sk-toggleable__label-arrow:before {content: \"▾\";}#sk-container-id-9 div.sk-estimator input.sk-toggleable__control:checked~label.sk-toggleable__label {background-color: #d4ebff;}#sk-container-id-9 div.sk-label input.sk-toggleable__control:checked~label.sk-toggleable__label {background-color: #d4ebff;}#sk-container-id-9 input.sk-hidden--visually {border: 0;clip: rect(1px 1px 1px 1px);clip: rect(1px, 1px, 1px, 1px);height: 1px;margin: -1px;overflow: hidden;padding: 0;position: absolute;width: 1px;}#sk-container-id-9 div.sk-estimator {font-family: monospace;background-color: #f0f8ff;border: 1px dotted black;border-radius: 0.25em;box-sizing: border-box;margin-bottom: 0.5em;}#sk-container-id-9 div.sk-estimator:hover {background-color: #d4ebff;}#sk-container-id-9 div.sk-parallel-item::after {content: \"\";width: 100%;border-bottom: 1px solid gray;flex-grow: 1;}#sk-container-id-9 div.sk-label:hover label.sk-toggleable__label {background-color: #d4ebff;}#sk-container-id-9 div.sk-serial::before {content: \"\";position: absolute;border-left: 1px solid gray;box-sizing: border-box;top: 0;bottom: 0;left: 50%;z-index: 0;}#sk-container-id-9 div.sk-serial {display: flex;flex-direction: column;align-items: center;background-color: white;padding-right: 0.2em;padding-left: 0.2em;position: relative;}#sk-container-id-9 div.sk-item {position: relative;z-index: 1;}#sk-container-id-9 div.sk-parallel {display: flex;align-items: stretch;justify-content: center;background-color: white;position: relative;}#sk-container-id-9 div.sk-item::before, #sk-container-id-9 div.sk-parallel-item::before {content: \"\";position: absolute;border-left: 1px solid gray;box-sizing: border-box;top: 0;bottom: 0;left: 50%;z-index: -1;}#sk-container-id-9 div.sk-parallel-item {display: flex;flex-direction: column;z-index: 1;position: relative;background-color: white;}#sk-container-id-9 div.sk-parallel-item:first-child::after {align-self: flex-end;width: 50%;}#sk-container-id-9 div.sk-parallel-item:last-child::after {align-self: flex-start;width: 50%;}#sk-container-id-9 div.sk-parallel-item:only-child::after {width: 0;}#sk-container-id-9 div.sk-dashed-wrapped {border: 1px dashed gray;margin: 0 0.4em 0.5em 0.4em;box-sizing: border-box;padding-bottom: 0.4em;background-color: white;}#sk-container-id-9 div.sk-label label {font-family: monospace;font-weight: bold;display: inline-block;line-height: 1.2em;}#sk-container-id-9 div.sk-label-container {text-align: center;}#sk-container-id-9 div.sk-container {/* jupyter's `normalize.less` sets `[hidden] { display: none; }` but bootstrap.min.css set `[hidden] { display: none !important; }` so we also need the `!important` here to be able to override the default hidden behavior on the sphinx rendered scikit-learn.org. See: https://github.com/scikit-learn/scikit-learn/issues/21755 */display: inline-block !important;position: relative;}#sk-container-id-9 div.sk-text-repr-fallback {display: none;}</style><div id=\"sk-container-id-9\" class=\"sk-top-container\"><div class=\"sk-text-repr-fallback\"><pre>KNeighborsClassifier()</pre><b>In a Jupyter environment, please rerun this cell to show the HTML representation or trust the notebook. <br />On GitHub, the HTML representation is unable to render, please try loading this page with nbviewer.org.</b></div><div class=\"sk-container\" hidden><div class=\"sk-item\"><div class=\"sk-estimator sk-toggleable\"><input class=\"sk-toggleable__control sk-hidden--visually\" id=\"sk-estimator-id-9\" type=\"checkbox\" checked><label for=\"sk-estimator-id-9\" class=\"sk-toggleable__label sk-toggleable__label-arrow\">KNeighborsClassifier</label><div class=\"sk-toggleable__content\"><pre>KNeighborsClassifier()</pre></div></div></div></div></div>"
      ],
      "text/plain": [
       "KNeighborsClassifier()"
      ]
     },
     "execution_count": 178,
     "metadata": {},
     "output_type": "execute_result"
    }
   ],
   "source": [
    "log.fit(X_train_scaled,y_train)\n",
    "nb.fit(X_train_scaled,y_train)\n",
    "knn.fit(X_train_scaled,y_train)"
   ]
  },
  {
   "cell_type": "markdown",
   "metadata": {},
   "source": [
    "We've spoken about classification models in the past and optimizing for the threshold (i.e., the default is 50%, but what if we wanted higher thresholds and they were more accurate?). In the example below, if I use the predict() function, I will basically get the 0/1 outputs. However, I can use a predict_proba() function so I can see the actual probabilities that the model is predicting. This will help me find an optimal threshold."
   ]
  },
  {
   "cell_type": "code",
   "execution_count": 195,
   "metadata": {},
   "outputs": [],
   "source": [
    "# Make predictions on the test data\n",
    "y_pred_log = log.predict(X_test_scaled)\n",
    "y_pred_nb = nb.predict(X_test_scaled)\n",
    "y_pred_knn = knn.predict(X_test_scaled)"
   ]
  },
  {
   "cell_type": "code",
   "execution_count": 191,
   "metadata": {},
   "outputs": [],
   "source": [
    "yhat_log = log.predict_proba(X_test_scaled)\n",
    "yhat_nb = nb.predict_proba(X_test_scaled)\n",
    "yhat_knn = knn.predict_proba(X_test_scaled)"
   ]
  },
  {
   "cell_type": "markdown",
   "metadata": {},
   "source": [
    "In the next cell, for each observation, we can see the probability that the observation is a 1 and the probability that it's a 0. For example, the first entry has a 73% chance of being a 0 (dead), and a 27% chance of being a 1 (alive)."
   ]
  },
  {
   "cell_type": "code",
   "execution_count": 180,
   "metadata": {},
   "outputs": [
    {
     "data": {
      "text/plain": [
       "array([[0.69262997, 0.30737003],\n",
       "       [0.94292988, 0.05707012],\n",
       "       [0.78457724, 0.21542276],\n",
       "       [0.96914983, 0.03085017],\n",
       "       [0.92744209, 0.07255791],\n",
       "       [0.6829379 , 0.3170621 ],\n",
       "       [0.83103999, 0.16896001],\n",
       "       [0.8783245 , 0.1216755 ],\n",
       "       [0.87729373, 0.12270627],\n",
       "       [0.07815847, 0.92184153],\n",
       "       [0.63597964, 0.36402036],\n",
       "       [0.84411975, 0.15588025],\n",
       "       [0.67459876, 0.32540124],\n",
       "       [0.40618338, 0.59381662],\n",
       "       [0.84434945, 0.15565055],\n",
       "       [0.07724345, 0.92275655],\n",
       "       [0.17072253, 0.82927747],\n",
       "       [0.82748871, 0.17251129],\n",
       "       [0.31481237, 0.68518763],\n",
       "       [0.73023269, 0.26976731],\n",
       "       [0.83330103, 0.16669897],\n",
       "       [0.83328676, 0.16671324],\n",
       "       [0.84011199, 0.15988801],\n",
       "       [0.93959889, 0.06040111],\n",
       "       [0.49323858, 0.50676142],\n",
       "       [0.61560086, 0.38439914],\n",
       "       [0.87807237, 0.12192763],\n",
       "       [0.82986647, 0.17013353],\n",
       "       [0.84928206, 0.15071794],\n",
       "       [0.34362315, 0.65637685],\n",
       "       [0.19531479, 0.80468521],\n",
       "       [0.93761375, 0.06238625],\n",
       "       [0.06192978, 0.93807022],\n",
       "       [0.80899484, 0.19100516],\n",
       "       [0.32380578, 0.67619422],\n",
       "       [0.46091485, 0.53908515],\n",
       "       [0.50689071, 0.49310929],\n",
       "       [0.85067292, 0.14932708],\n",
       "       [0.83889603, 0.16110397],\n",
       "       [0.5066913 , 0.4933087 ],\n",
       "       [0.28629274, 0.71370726],\n",
       "       [0.47733907, 0.52266093],\n",
       "       [0.54276556, 0.45723444],\n",
       "       [0.13581657, 0.86418343],\n",
       "       [0.87845234, 0.12154766],\n",
       "       [0.74699617, 0.25300383],\n",
       "       [0.3171263 , 0.6828737 ],\n",
       "       [0.57760953, 0.42239047],\n",
       "       [0.93649806, 0.06350194],\n",
       "       [0.64554382, 0.35445618],\n",
       "       [0.86933712, 0.13066288],\n",
       "       [0.31698861, 0.68301139],\n",
       "       [0.84405293, 0.15594707],\n",
       "       [0.49855438, 0.50144562],\n",
       "       [0.2005412 , 0.7994588 ],\n",
       "       [0.61257676, 0.38742324],\n",
       "       [0.06045833, 0.93954167],\n",
       "       [0.56847691, 0.43152309],\n",
       "       [0.52293064, 0.47706936],\n",
       "       [0.84445347, 0.15554653],\n",
       "       [0.92568452, 0.07431548],\n",
       "       [0.07015097, 0.92984903],\n",
       "       [0.26969953, 0.73030047],\n",
       "       [0.72524268, 0.27475732],\n",
       "       [0.07992305, 0.92007695],\n",
       "       [0.69997914, 0.30002086],\n",
       "       [0.19301533, 0.80698467],\n",
       "       [0.88271511, 0.11728489],\n",
       "       [0.33036817, 0.66963183],\n",
       "       [0.23614496, 0.76385504],\n",
       "       [0.86458555, 0.13541445],\n",
       "       [0.87302547, 0.12697453],\n",
       "       [0.84447729, 0.15552271],\n",
       "       [0.93798983, 0.06201017],\n",
       "       [0.32161219, 0.67838781],\n",
       "       [0.85447557, 0.14552443],\n",
       "       [0.96207302, 0.03792698],\n",
       "       [0.1788445 , 0.8211555 ],\n",
       "       [0.05600553, 0.94399447],\n",
       "       [0.50344599, 0.49655401],\n",
       "       [0.58851286, 0.41148714],\n",
       "       [0.63102292, 0.36897708],\n",
       "       [0.89075202, 0.10924798],\n",
       "       [0.82751113, 0.17248887],\n",
       "       [0.25677264, 0.74322736],\n",
       "       [0.39221827, 0.60778173],\n",
       "       [0.94630479, 0.05369521],\n",
       "       [0.83134189, 0.16865811],\n",
       "       [0.77422966, 0.22577034],\n",
       "       [0.85230191, 0.14769809],\n",
       "       [0.17845605, 0.82154395],\n",
       "       [0.17988758, 0.82011242],\n",
       "       [0.27160676, 0.72839324],\n",
       "       [0.74051647, 0.25948353],\n",
       "       [0.19711648, 0.80288352],\n",
       "       [0.18684869, 0.81315131],\n",
       "       [0.15059059, 0.84940941],\n",
       "       [0.19949353, 0.80050647],\n",
       "       [0.87832128, 0.12167872],\n",
       "       [0.69075808, 0.30924192],\n",
       "       [0.72564562, 0.27435438],\n",
       "       [0.1936184 , 0.8063816 ],\n",
       "       [0.77394855, 0.22605145],\n",
       "       [0.42758091, 0.57241909],\n",
       "       [0.62933262, 0.37066738],\n",
       "       [0.12823609, 0.87176391],\n",
       "       [0.05371704, 0.94628296],\n",
       "       [0.05030121, 0.94969879],\n",
       "       [0.78740491, 0.21259509],\n",
       "       [0.93861952, 0.06138048],\n",
       "       [0.4776319 , 0.5223681 ],\n",
       "       [0.70723574, 0.29276426],\n",
       "       [0.86591168, 0.13408832],\n",
       "       [0.39477123, 0.60522877],\n",
       "       [0.90227265, 0.09772735],\n",
       "       [0.16622945, 0.83377055],\n",
       "       [0.8729489 , 0.1270511 ],\n",
       "       [0.7007833 , 0.2992167 ],\n",
       "       [0.11409683, 0.88590317],\n",
       "       [0.17513038, 0.82486962],\n",
       "       [0.41090382, 0.58909618],\n",
       "       [0.41159895, 0.58840105],\n",
       "       [0.90708681, 0.09291319],\n",
       "       [0.92184796, 0.07815204],\n",
       "       [0.5066913 , 0.4933087 ],\n",
       "       [0.24205517, 0.75794483],\n",
       "       [0.85088113, 0.14911887],\n",
       "       [0.94960078, 0.05039922],\n",
       "       [0.89079613, 0.10920387],\n",
       "       [0.38150624, 0.61849376],\n",
       "       [0.63614635, 0.36385365],\n",
       "       [0.24360005, 0.75639995],\n",
       "       [0.90836328, 0.09163672],\n",
       "       [0.91383234, 0.08616766],\n",
       "       [0.91246505, 0.08753495],\n",
       "       [0.04438904, 0.95561096],\n",
       "       [0.94658136, 0.05341864],\n",
       "       [0.07123425, 0.92876575],\n",
       "       [0.35800676, 0.64199324],\n",
       "       [0.72437469, 0.27562531],\n",
       "       [0.68203281, 0.31796719],\n",
       "       [0.36757123, 0.63242877],\n",
       "       [0.52174384, 0.47825616],\n",
       "       [0.82759394, 0.17240606],\n",
       "       [0.93888344, 0.06111656],\n",
       "       [0.81102227, 0.18897773],\n",
       "       [0.33624413, 0.66375587],\n",
       "       [0.64637317, 0.35362683],\n",
       "       [0.91256299, 0.08743701],\n",
       "       [0.92004483, 0.07995517],\n",
       "       [0.17639451, 0.82360549],\n",
       "       [0.31711452, 0.68288548],\n",
       "       [0.88259491, 0.11740509],\n",
       "       [0.05322706, 0.94677294],\n",
       "       [0.88537241, 0.11462759],\n",
       "       [0.88783403, 0.11216597]])"
      ]
     },
     "execution_count": 180,
     "metadata": {},
     "output_type": "execute_result"
    }
   ],
   "source": [
    "yhat_log"
   ]
  },
  {
   "cell_type": "markdown",
   "metadata": {},
   "source": [
    "Let's do a quick comparison to the predict function: we can see below that the same first observation was naturally classified as a 0. "
   ]
  },
  {
   "cell_type": "code",
   "execution_count": 160,
   "metadata": {},
   "outputs": [
    {
     "data": {
      "text/plain": [
       "array([0, 0, 0, 0, 0, 0, 0, 0, 0, 1, 0, 0, 0, 1, 0, 1, 1, 0, 1, 0, 0, 0,\n",
       "       0, 0, 1, 0, 0, 0, 0, 1, 1, 0, 1, 0, 1, 1, 0, 0, 0, 0, 1, 1, 0, 1,\n",
       "       0, 0, 1, 0, 0, 0, 0, 1, 0, 1, 1, 0, 1, 0, 0, 0, 0, 1, 1, 0, 1, 0,\n",
       "       1, 0, 1, 1, 0, 0, 0, 0, 1, 0, 0, 1, 1, 0, 0, 0, 0, 0, 1, 1, 0, 0,\n",
       "       0, 0, 1, 1, 1, 0, 1, 1, 1, 1, 0, 0, 0, 1, 0, 1, 0, 1, 1, 1, 0, 0,\n",
       "       1, 0, 0, 1, 0, 1, 0, 0, 1, 1, 1, 1, 0, 0, 0, 1, 0, 0, 0, 1, 0, 1,\n",
       "       0, 0, 0, 1, 0, 1, 1, 0, 0, 1, 0, 0, 0, 0, 1, 0, 0, 0, 1, 1, 0, 1,\n",
       "       0, 0], dtype=int64)"
      ]
     },
     "execution_count": 160,
     "metadata": {},
     "output_type": "execute_result"
    }
   ],
   "source": [
    "log.predict(X_test_scaled)"
   ]
  },
  {
   "cell_type": "markdown",
   "metadata": {},
   "source": [
    "Moving on. I'm going to isolate only the probabilities that something is a 1 (alive). "
   ]
  },
  {
   "cell_type": "code",
   "execution_count": 161,
   "metadata": {},
   "outputs": [
    {
     "data": {
      "text/plain": [
       "array([0.30737003, 0.05707012, 0.21542276, 0.03085017, 0.07255791,\n",
       "       0.3170621 , 0.16896001, 0.1216755 , 0.12270627, 0.92184153,\n",
       "       0.36402036, 0.15588025, 0.32540124, 0.59381662, 0.15565055,\n",
       "       0.92275655, 0.82927747, 0.17251129, 0.68518763, 0.26976731,\n",
       "       0.16669897, 0.16671324, 0.15988801, 0.06040111, 0.50676142,\n",
       "       0.38439914, 0.12192763, 0.17013353, 0.15071794, 0.65637685,\n",
       "       0.80468521, 0.06238625, 0.93807022, 0.19100516, 0.67619422,\n",
       "       0.53908515, 0.49310929, 0.14932708, 0.16110397, 0.4933087 ,\n",
       "       0.71370726, 0.52266093, 0.45723444, 0.86418343, 0.12154766,\n",
       "       0.25300383, 0.6828737 , 0.42239047, 0.06350194, 0.35445618,\n",
       "       0.13066288, 0.68301139, 0.15594707, 0.50144562, 0.7994588 ,\n",
       "       0.38742324, 0.93954167, 0.43152309, 0.47706936, 0.15554653,\n",
       "       0.07431548, 0.92984903, 0.73030047, 0.27475732, 0.92007695,\n",
       "       0.30002086, 0.80698467, 0.11728489, 0.66963183, 0.76385504,\n",
       "       0.13541445, 0.12697453, 0.15552271, 0.06201017, 0.67838781,\n",
       "       0.14552443, 0.03792698, 0.8211555 , 0.94399447, 0.49655401,\n",
       "       0.41148714, 0.36897708, 0.10924798, 0.17248887, 0.74322736,\n",
       "       0.60778173, 0.05369521, 0.16865811, 0.22577034, 0.14769809,\n",
       "       0.82154395, 0.82011242, 0.72839324, 0.25948353, 0.80288352,\n",
       "       0.81315131, 0.84940941, 0.80050647, 0.12167872, 0.30924192,\n",
       "       0.27435438, 0.8063816 , 0.22605145, 0.57241909, 0.37066738,\n",
       "       0.87176391, 0.94628296, 0.94969879, 0.21259509, 0.06138048,\n",
       "       0.5223681 , 0.29276426, 0.13408832, 0.60522877, 0.09772735,\n",
       "       0.83377055, 0.1270511 , 0.2992167 , 0.88590317, 0.82486962,\n",
       "       0.58909618, 0.58840105, 0.09291319, 0.07815204, 0.4933087 ,\n",
       "       0.75794483, 0.14911887, 0.05039922, 0.10920387, 0.61849376,\n",
       "       0.36385365, 0.75639995, 0.09163672, 0.08616766, 0.08753495,\n",
       "       0.95561096, 0.05341864, 0.92876575, 0.64199324, 0.27562531,\n",
       "       0.31796719, 0.63242877, 0.47825616, 0.17240606, 0.06111656,\n",
       "       0.18897773, 0.66375587, 0.35362683, 0.08743701, 0.07995517,\n",
       "       0.82360549, 0.68288548, 0.11740509, 0.94677294, 0.11462759,\n",
       "       0.11216597])"
      ]
     },
     "execution_count": 161,
     "metadata": {},
     "output_type": "execute_result"
    }
   ],
   "source": [
    "yhat_log[:,1]"
   ]
  },
  {
   "cell_type": "markdown",
   "metadata": {},
   "source": [
    "Now we can use the roc_curve() function to plot these. A True Positive will be anything over 50%, because this would be classified as a 1. A False Positive will be anything where the prediction was over 50% but actually the output should have been a 0. You can print out each element to see what it looks like.\n",
    "\n",
    "SYNTAX for ROC Curve\n",
    "\n",
    "from sklearn.metrics import roc_curve\n",
    "\n",
    "- y_true: true binary labels or binary label indicators\n",
    "- y_score: target scores, can be probability estimates of the positive class\n",
    "\n",
    "fpr, tpr, thresholds = roc_curve(y_true, y_score, pos_label=None, sample_weight=None, drop_intermediate=True)\n",
    "\n",
    "Parameters:\n",
    "\n",
    "y_true: True binary labels or binary label indicators.\n",
    "y_score: Target scores, can be probability estimates of the positive class.\n",
    "pos_label: The class to consider as positive in binary classification. If None, the class with the larger prevalence will be considered positive.\n",
    "sample_weight: Sample weights.\n",
    "drop_intermediate: Whether to drop some suboptimal thresholds which would not appear on a plotted ROC curve.\n",
    "Returns:\n",
    "\n",
    "fpr: Array of false positive rates.\n",
    "tpr: Array of true positive rates.\n",
    "thresholds: Array of thresholds corresponding to the ROC curve points."
   ]
  },
  {
   "cell_type": "code",
   "execution_count": 162,
   "metadata": {},
   "outputs": [],
   "source": [
    "fpr, tpr, thresholds = roc_curve(y_test, yhat_log[:,1])"
   ]
  },
  {
   "cell_type": "code",
   "execution_count": 163,
   "metadata": {},
   "outputs": [
    {
     "data": {
      "text/plain": [
       "array([0.        , 0.        , 0.        , 0.01136364, 0.01136364,\n",
       "       0.02272727, 0.02272727, 0.04545455, 0.04545455, 0.05681818,\n",
       "       0.05681818, 0.09090909, 0.09090909, 0.10227273, 0.10227273,\n",
       "       0.11363636, 0.11363636, 0.125     , 0.125     , 0.15909091,\n",
       "       0.15909091, 0.17045455, 0.18181818, 0.18181818, 0.19318182,\n",
       "       0.19318182, 0.21590909, 0.21590909, 0.22727273, 0.22727273,\n",
       "       0.25      , 0.25      , 0.26136364, 0.26136364, 0.27272727,\n",
       "       0.27272727, 0.29545455, 0.29545455, 0.32954545, 0.32954545,\n",
       "       0.35227273, 0.35227273, 0.375     , 0.375     , 0.5       ,\n",
       "       0.5       , 0.63636364, 0.63636364, 0.67045455, 0.67045455,\n",
       "       0.76136364, 0.76136364, 0.77272727, 0.77272727, 1.        ])"
      ]
     },
     "execution_count": 163,
     "metadata": {},
     "output_type": "execute_result"
    }
   ],
   "source": [
    "fpr"
   ]
  },
  {
   "cell_type": "code",
   "execution_count": 164,
   "metadata": {},
   "outputs": [
    {
     "data": {
      "text/plain": [
       "array([0.        , 0.01470588, 0.30882353, 0.30882353, 0.42647059,\n",
       "       0.42647059, 0.44117647, 0.44117647, 0.52941176, 0.52941176,\n",
       "       0.55882353, 0.55882353, 0.57352941, 0.57352941, 0.61764706,\n",
       "       0.61764706, 0.63235294, 0.63235294, 0.64705882, 0.64705882,\n",
       "       0.69117647, 0.70588235, 0.70588235, 0.72058824, 0.72058824,\n",
       "       0.77941176, 0.77941176, 0.79411765, 0.79411765, 0.80882353,\n",
       "       0.80882353, 0.83823529, 0.83823529, 0.85294118, 0.85294118,\n",
       "       0.86764706, 0.86764706, 0.88235294, 0.88235294, 0.89705882,\n",
       "       0.89705882, 0.91176471, 0.91176471, 0.92647059, 0.92647059,\n",
       "       0.94117647, 0.94117647, 0.95588235, 0.95588235, 0.97058824,\n",
       "       0.97058824, 0.98529412, 0.98529412, 1.        , 1.        ])"
      ]
     },
     "execution_count": 164,
     "metadata": {},
     "output_type": "execute_result"
    }
   ],
   "source": [
    "tpr"
   ]
  },
  {
   "cell_type": "code",
   "execution_count": 165,
   "metadata": {},
   "outputs": [
    {
     "data": {
      "text/plain": [
       "array([1.95561096, 0.95561096, 0.82154395, 0.8211555 , 0.7994588 ,\n",
       "       0.76385504, 0.75794483, 0.74322736, 0.68288548, 0.6828737 ,\n",
       "       0.67619422, 0.65637685, 0.64199324, 0.63242877, 0.60522877,\n",
       "       0.59381662, 0.58909618, 0.58840105, 0.57241909, 0.5223681 ,\n",
       "       0.49655401, 0.4933087 , 0.49310929, 0.47825616, 0.47706936,\n",
       "       0.41148714, 0.38439914, 0.37066738, 0.36897708, 0.36402036,\n",
       "       0.35445618, 0.32540124, 0.31796719, 0.3170621 , 0.30924192,\n",
       "       0.30737003, 0.2992167 , 0.29276426, 0.27435438, 0.26976731,\n",
       "       0.25300383, 0.22605145, 0.21542276, 0.21259509, 0.16110397,\n",
       "       0.15988801, 0.13408832, 0.13066288, 0.12270627, 0.12192763,\n",
       "       0.10924798, 0.10920387, 0.09772735, 0.09291319, 0.03085017])"
      ]
     },
     "execution_count": 165,
     "metadata": {},
     "output_type": "execute_result"
    }
   ],
   "source": [
    "thresholds"
   ]
  },
  {
   "cell_type": "code",
   "execution_count": 181,
   "metadata": {},
   "outputs": [],
   "source": [
    "roc_auc_lr = auc(fpr, tpr)"
   ]
  },
  {
   "cell_type": "code",
   "execution_count": 200,
   "metadata": {},
   "outputs": [
    {
     "data": {
      "image/png": "[encoded data removed]",
      "text/plain": [
       "<Figure size 800x600 with 1 Axes>"
      ]
     },
     "metadata": {},
     "output_type": "display_data"
    }
   ],
   "source": [
    "# Assuming you have true labels 'y_true' and predicted probabilities 'y_scores'\n",
    "precision, recall, thresholds = precision_recall_curve(y_test, y_pred_log)\n",
    "\n",
    "# Plotting the PR curve\n",
    "plt.figure(figsize=(8, 6))\n",
    "plt.plot(recall, precision, color='blue', label='PR Curve')\n",
    "plt.xlabel('Recall')\n",
    "plt.ylabel('Precision')\n",
    "plt.title('Precision-Recall Curve')\n",
    "plt.legend()\n",
    "plt.grid(True)\n",
    "plt.show()"
   ]
  },
  {
   "cell_type": "code",
   "execution_count": 183,
   "metadata": {},
   "outputs": [
    {
     "data": {
      "image/png": "[encoded data removed]",
      "text/plain": [
       "<Figure size 800x600 with 1 Axes>"
      ]
     },
     "metadata": {},
     "output_type": "display_data"
    }
   ],
   "source": [
    "# Plot ROC curve\n",
    "plt.figure(figsize=(8, 6))\n",
    "plt.plot(fpr, tpr, color='blue', lw=2, label='Logistic Regression (AUC = %0.3f)' % roc_auc_lr)\n",
    "plt.plot([0, 1], [0, 1], color='gray', linestyle='--')\n",
    "plt.xlabel('False Positive Rate')\n",
    "plt.ylabel('True Positive Rate')\n",
    "plt.title('Receiver Operating Characteristic (ROC) Curve')\n",
    "plt.legend(loc='lower right')\n",
    "plt.show()"
   ]
  },
  {
   "cell_type": "markdown",
   "metadata": {},
   "source": [
    "Ideally we want this curve to be towards the top left; but in a non-ideal world, we want to find the optimal threshold. One way we can do this is by calculating the geometric mean (G-mean) which will find the balance between Sensitivity and Specificity. As a refresher:\n",
    "\n",
    "Sensitivity = True Positive Rate \\\n",
    "Specificity = 1 - False Positive Rate\n",
    "\n",
    "In other words:\n",
    "\n",
    "Sensitivity = TP / (TP + FN) \\\n",
    "Specificity = TN / (FP + TN)\n",
    "\n",
    "To calculate the G-mean, we simply take the square root of the Sensitivity multiplied by the Specificity."
   ]
  },
  {
   "cell_type": "code",
   "execution_count": 167,
   "metadata": {},
   "outputs": [
    {
     "data": {
      "text/plain": [
       "array([0.        , 0.12126781, 0.55571893, 0.55255241, 0.64932606,\n",
       "       0.64558352, 0.65661993, 0.6489399 , 0.71087804, 0.70663396,\n",
       "       0.72599738, 0.71275619, 0.72207366, 0.71754651, 0.7446332 ,\n",
       "       0.73990533, 0.74866191, 0.74384731, 0.75244699, 0.73764331,\n",
       "       0.76237561, 0.7652199 , 0.7599606 , 0.76783605, 0.76248521,\n",
       "       0.79299658, 0.78174784, 0.78908835, 0.78334945, 0.79056942,\n",
       "       0.77885663, 0.79289121, 0.78686153, 0.79373381, 0.7876045 ,\n",
       "       0.79436518, 0.78185471, 0.78845276, 0.76914078, 0.7755238 ,\n",
       "       0.76226601, 0.76848869, 0.75488605, 0.76094948, 0.68061391,\n",
       "       0.68599434, 0.58501794, 0.58957068, 0.56125456, 0.56555543,\n",
       "       0.48126671, 0.48489896, 0.47321293, 0.47673129, 0.        ])"
      ]
     },
     "execution_count": 167,
     "metadata": {},
     "output_type": "execute_result"
    }
   ],
   "source": [
    "gmeans = np.sqrt(tpr*(1-fpr))\n",
    "gmeans"
   ]
  },
  {
   "cell_type": "code",
   "execution_count": 168,
   "metadata": {},
   "outputs": [
    {
     "name": "stdout",
     "output_type": "stream",
     "text": [
      "0.3073700340725585\n",
      "0.7943651822560885\n"
     ]
    }
   ],
   "source": [
    "#find the index with the highest gmean\n",
    "\n",
    "print(thresholds[np.argmax(gmeans)])\n",
    "print(gmeans[np.argmax(gmeans)])\n"
   ]
  },
  {
   "cell_type": "markdown",
   "metadata": {},
   "source": [
    "Now for this model, we can conclude that the best threshold is 61%, with a geometric mean of 81%. So how do we actually implement this?\n",
    "\n",
    "Unfortunately, sklearn models don't have a threshold parameter as a hyperparameter. But, we can simply use the predict_proba() function, then assign a class based on the optimal threshold, and go from there. \n",
    "\n",
    "Now let's repeat the process for NB."
   ]
  },
  {
   "cell_type": "code",
   "execution_count": 169,
   "metadata": {},
   "outputs": [
    {
     "name": "stdout",
     "output_type": "stream",
     "text": [
      "0.22590146938456085\n",
      "0.787392298042115\n"
     ]
    }
   ],
   "source": [
    "fpr_nb, tpr_nb, thresholds_nb = roc_curve(y_test, yhat_nb[:,1])\n",
    "gmeans_nb = np.sqrt(tpr_nb*(1-fpr_nb))\n",
    "print(thresholds_nb[np.argmax(gmeans_nb)])\n",
    "print(gmeans_nb[np.argmax(gmeans_nb)])"
   ]
  },
  {
   "cell_type": "code",
   "execution_count": 171,
   "metadata": {},
   "outputs": [
    {
     "data": {
      "text/plain": [
       "array([0.        , 0.12126781, 0.24253563, 0.24115364, 0.49715097,\n",
       "       0.49428553, 0.56229571, 0.55901699, 0.58387421, 0.58042949,\n",
       "       0.59239837, 0.58886163, 0.66622088, 0.66219534, 0.70236423,\n",
       "       0.69374594, 0.7033153 , 0.69890575, 0.71754651, 0.71299061,\n",
       "       0.72207366, 0.70805148, 0.76750951, 0.76237561, 0.77842739,\n",
       "       0.77314985, 0.78099929, 0.77563153, 0.78334945, 0.7778905 ,\n",
       "       0.78547986, 0.7799287 , 0.7873923 , 0.75289104, 0.76696499,\n",
       "       0.75488605, 0.76171773, 0.75554988, 0.76892348, 0.75621312,\n",
       "       0.75621312, 0.7496657 , 0.75599211, 0.74933125, 0.76171773,\n",
       "       0.73400957, 0.73990533, 0.51303204, 0.51708769, 0.4739187 ,\n",
       "       0.47760683, 0.44217801, 0.44556639, 0.37865862, 0.38151646,\n",
       "       0.2591894 , 0.26111648, 0.        ])"
      ]
     },
     "execution_count": 171,
     "metadata": {},
     "output_type": "execute_result"
    }
   ],
   "source": [
    "gmeans_nb"
   ]
  },
  {
   "cell_type": "code",
   "execution_count": 172,
   "metadata": {},
   "outputs": [
    {
     "data": {
      "text/plain": [
       "array([0.        , 0.        , 0.        , 0.01136364, 0.01136364,\n",
       "       0.02272727, 0.02272727, 0.03409091, 0.03409091, 0.04545455,\n",
       "       0.04545455, 0.05681818, 0.05681818, 0.06818182, 0.06818182,\n",
       "       0.09090909, 0.09090909, 0.10227273, 0.10227273, 0.11363636,\n",
       "       0.11363636, 0.14772727, 0.14772727, 0.15909091, 0.15909091,\n",
       "       0.17045455, 0.17045455, 0.18181818, 0.18181818, 0.19318182,\n",
       "       0.19318182, 0.20454545, 0.20454545, 0.27272727, 0.27272727,\n",
       "       0.29545455, 0.29545455, 0.30681818, 0.30681818, 0.32954545,\n",
       "       0.34090909, 0.35227273, 0.35227273, 0.36363636, 0.36363636,\n",
       "       0.40909091, 0.40909091, 0.71590909, 0.71590909, 0.76136364,\n",
       "       0.76136364, 0.79545455, 0.79545455, 0.85227273, 0.85227273,\n",
       "       0.93181818, 0.93181818, 1.        ])"
      ]
     },
     "execution_count": 172,
     "metadata": {},
     "output_type": "execute_result"
    }
   ],
   "source": [
    "fpr_nb"
   ]
  },
  {
   "cell_type": "code",
   "execution_count": 184,
   "metadata": {},
   "outputs": [],
   "source": [
    "roc_auc_nb = auc(fpr_nb, tpr_nb)"
   ]
  },
  {
   "cell_type": "code",
   "execution_count": 185,
   "metadata": {},
   "outputs": [
    {
     "data": {
      "image/png": "[encoded data removed]",
      "text/plain": [
       "<Figure size 800x600 with 1 Axes>"
      ]
     },
     "metadata": {},
     "output_type": "display_data"
    }
   ],
   "source": [
    "# Plot ROC curve\n",
    "plt.figure(figsize=(8, 6))\n",
    "plt.plot(fpr_nb, tpr_nb, color='blue', lw=2, label='NAIVE BAIYES (AUC = %0.3f)' % roc_auc_nb)\n",
    "plt.plot([0, 1], [0, 1], color='gray', linestyle='--')\n",
    "plt.xlabel('False Positive Rate')\n",
    "plt.ylabel('True Positive Rate')\n",
    "plt.title('Receiver Operating Characteristic (ROC) Curve')\n",
    "plt.legend(loc='lower right')\n",
    "plt.show()"
   ]
  },
  {
   "cell_type": "code",
   "execution_count": 197,
   "metadata": {},
   "outputs": [
    {
     "name": "stdout",
     "output_type": "stream",
     "text": [
      "Naive Bayes Metrics: \n",
      "Confusion Matrix:  [[72 16]\n",
      " [17 51]]\n",
      "Accuracy:  0.7884615384615384\n",
      "Classification Report\n",
      "                precision    recall  f1-score   support\n",
      "\n",
      "           0       0.81      0.82      0.81        88\n",
      "           1       0.76      0.75      0.76        68\n",
      "\n",
      "    accuracy                           0.79       156\n",
      "   macro avg       0.79      0.78      0.78       156\n",
      "weighted avg       0.79      0.79      0.79       156\n",
      "\n",
      "\n",
      "Logistic Rgeression: \n",
      "Confusion Matrix:  [[74 14]\n",
      " [22 46]]\n",
      "Accuracy:  0.7692307692307693\n",
      "Classification Report\n",
      "                precision    recall  f1-score   support\n",
      "\n",
      "           0       0.77      0.84      0.80        88\n",
      "           1       0.77      0.68      0.72        68\n",
      "\n",
      "    accuracy                           0.77       156\n",
      "   macro avg       0.77      0.76      0.76       156\n",
      "weighted avg       0.77      0.77      0.77       156\n",
      "\n"
     ]
    }
   ],
   "source": [
    "# Compute metrics\n",
    "print(\"Naive Bayes Metrics: \")\n",
    "print(\"Confusion Matrix: \", confusion_matrix(y_test, y_pred_nb))\n",
    "print(\"Accuracy: \", accuracy_score(y_test, y_pred_nb))\n",
    "print(\"Classification Report\\n \", classification_report(y_test, y_pred_nb))\n",
    "\n",
    "print(\"\\nLogistic Rgeression: \")\n",
    "print(\"Confusion Matrix: \", confusion_matrix(y_test, y_pred_log))\n",
    "print(\"Accuracy: \", accuracy_score(y_test, y_pred_log))\n",
    "print(\"Classification Report\\n \", classification_report(y_test, y_pred_log))"
   ]
  },
  {
   "cell_type": "code",
   "execution_count": 187,
   "metadata": {},
   "outputs": [
    {
     "data": {
      "text/plain": [
       "<matplotlib.legend.Legend at 0x242243f6f10>"
      ]
     },
     "execution_count": 187,
     "metadata": {},
     "output_type": "execute_result"
    },
    {
     "data": {
      "image/png": "[encoded data removed]",
      "text/plain": [
       "<Figure size 640x480 with 1 Axes>"
      ]
     },
     "metadata": {},
     "output_type": "display_data"
    }
   ],
   "source": [
    "#now let's plot both models on the same plot so we can see how they compare\n",
    "import matplotlib.pyplot as plt\n",
    "plt.plot(fpr, tpr, color='blue', lw=2, label='Logistic Regression (AUC = %0.3f)' % roc_auc_lr)\n",
    "plt.plot(fpr_nb, tpr_nb, color='orange', lw=2, label='NAIVE BAIYES (AUC = %0.3f)' % roc_auc_nb)\n",
    "plt.xlabel('False Positive Rate')\n",
    "plt.ylabel('True Positive Rate')\n",
    "plt.legend()"
   ]
  },
  {
   "cell_type": "markdown",
   "metadata": {},
   "source": [
    "The Logistic Regression is VERY slightly better than Naive Bayes for this problem. And once again, we have not done any tuning to these models, but likely we would want to lean towards tho logistic regression.\n",
    "\n",
    "Now, we cannot use the same method to evaluate KNN, simply because it's not a probability-based model - it uses distance. While we want to find the optimal probability threshold for NB or Logistic Regression, for KNN we would be looking for the optimal number of neighbours. To compare it to these two models though, we could use the confusion matrix, recall, precision, and F1 score. And the roc_curve which is based on predicted values, rather than probabilities."
   ]
  },
  {
   "cell_type": "code",
   "execution_count": 192,
   "metadata": {},
   "outputs": [
    {
     "data": {
      "text/plain": [
       "<matplotlib.legend.Legend at 0x242246c5610>"
      ]
     },
     "execution_count": 192,
     "metadata": {},
     "output_type": "execute_result"
    },
    {
     "data": {
      "image/png": "[encoded data removed]",
      "text/plain": [
       "<Figure size 640x480 with 1 Axes>"
      ]
     },
     "metadata": {},
     "output_type": "display_data"
    }
   ],
   "source": [
    "fpr_knn, tpr_knn, thresholds_knn = roc_curve(y_test, yhat_knn[:, 1])\n",
    "roc_auc_knn = auc(fpr_knn, tpr_knn)\n",
    "plt.plot(fpr_knn,tpr_knn, color='blue', lw=2, label='KNN (AUC = %0.3f)' % roc_auc_knn)\n",
    "plt.legend()"
   ]
  },
  {
   "cell_type": "code",
   "execution_count": 198,
   "metadata": {},
   "outputs": [
    {
     "name": "stdout",
     "output_type": "stream",
     "text": [
      "\n",
      "KNN: \n",
      "Confusion Matrix:  [[77 11]\n",
      " [25 43]]\n",
      "Accuracy:  0.7692307692307693\n",
      "Classification Report\n",
      "                precision    recall  f1-score   support\n",
      "\n",
      "           0       0.75      0.88      0.81        88\n",
      "           1       0.80      0.63      0.70        68\n",
      "\n",
      "    accuracy                           0.77       156\n",
      "   macro avg       0.78      0.75      0.76       156\n",
      "weighted avg       0.77      0.77      0.76       156\n",
      "\n"
     ]
    }
   ],
   "source": [
    "print(\"\\nKNN: \")\n",
    "print(\"Confusion Matrix: \", confusion_matrix(y_test, y_pred_knn))\n",
    "print(\"Accuracy: \", accuracy_score(y_test, y_pred_knn))\n",
    "print(\"Classification Report\\n \", classification_report(y_test, y_pred_knn))"
   ]
  },
  {
   "cell_type": "markdown",
   "metadata": {},
   "source": [
    "Overall this model performed the worst, so... we should just scrap it. AND THAT'S IT! I hope this was helpful."
   ]
  }
 ],
 "metadata": {
  "kernelspec": {
   "display_name": "Python 3.7.13 ('base')",
   "language": "python",
   "name": "python3"
  },
  "language_info": {
   "codemirror_mode": {
    "name": "ipython",
    "version": 3
   },
   "file_extension": ".py",
   "mimetype": "text/x-python",
   "name": "python",
   "nbconvert_exporter": "python",
   "pygments_lexer": "ipython3",
   "version": "3.11.4"
  },
  "orig_nbformat": 4,
  "vscode": {
   "interpreter": {
    "hash": "ec34e64f2b95dc7183eda31f4b1ab04e3712d1753bd3e78e25e6efc4f82ffea6"
   }
  }
 },
 "nbformat": 4,
 "nbformat_minor": 2
}
