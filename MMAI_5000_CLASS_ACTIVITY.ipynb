{
 "cells": [
  {
   "cell_type": "code",
   "execution_count": 14,
   "metadata": {},
   "outputs": [
    {
     "name": "stdout",
     "output_type": "stream",
     "text": [
      "Collecting statsmodels\n",
      "  Downloading statsmodels-0.14.0-cp311-cp311-win_amd64.whl (9.2 MB)\n",
      "                                              0.0/9.2 MB ? eta -:--:--\n",
      "     -                                        0.4/9.2 MB 7.4 MB/s eta 0:00:02\n",
      "     ----                                     1.0/9.2 MB 10.6 MB/s eta 0:00:01\n",
      "     -------                                  1.8/9.2 MB 12.9 MB/s eta 0:00:01\n",
      "     -----------                              2.6/9.2 MB 13.8 MB/s eta 0:00:01\n",
      "     -------------                            3.2/9.2 MB 14.6 MB/s eta 0:00:01\n",
      "     ----------------                         3.9/9.2 MB 14.6 MB/s eta 0:00:01\n",
      "     --------------------                     4.6/9.2 MB 14.8 MB/s eta 0:00:01\n",
      "     -----------------------                  5.3/9.2 MB 15.5 MB/s eta 0:00:01\n",
      "     --------------------------               6.1/9.2 MB 15.5 MB/s eta 0:00:01\n",
      "     -----------------------------            6.7/9.2 MB 15.2 MB/s eta 0:00:01\n",
      "     --------------------------------         7.4/9.2 MB 15.7 MB/s eta 0:00:01\n",
      "     -----------------------------------      8.1/9.2 MB 15.7 MB/s eta 0:00:01\n",
      "     --------------------------------------   8.8/9.2 MB 15.7 MB/s eta 0:00:01\n",
      "     ---------------------------------------  9.2/9.2 MB 15.4 MB/s eta 0:00:01\n",
      "     ---------------------------------------- 9.2/9.2 MB 14.0 MB/s eta 0:00:00\n",
      "Requirement already satisfied: numpy>=1.18 in c:\\users\\sroff\\appdata\\local\\packages\\pythonsoftwarefoundation.python.3.11_qbz5n2kfra8p0\\localcache\\local-packages\\python311\\site-packages (from statsmodels) (1.24.3)\n",
      "Requirement already satisfied: scipy!=1.9.2,>=1.4 in c:\\users\\sroff\\appdata\\local\\packages\\pythonsoftwarefoundation.python.3.11_qbz5n2kfra8p0\\localcache\\local-packages\\python311\\site-packages (from statsmodels) (1.10.1)\n",
      "Requirement already satisfied: pandas>=1.0 in c:\\users\\sroff\\appdata\\local\\packages\\pythonsoftwarefoundation.python.3.11_qbz5n2kfra8p0\\localcache\\local-packages\\python311\\site-packages (from statsmodels) (2.0.1)\n",
      "Collecting patsy>=0.5.2 (from statsmodels)\n",
      "  Downloading patsy-0.5.3-py2.py3-none-any.whl (233 kB)\n",
      "                                              0.0/233.8 kB ? eta -:--:--\n",
      "     -------------------------------------- 233.8/233.8 kB 7.2 MB/s eta 0:00:00\n",
      "Requirement already satisfied: packaging>=21.3 in c:\\users\\sroff\\appdata\\local\\packages\\pythonsoftwarefoundation.python.3.11_qbz5n2kfra8p0\\localcache\\local-packages\\python311\\site-packages (from statsmodels) (23.1)\n",
      "Requirement already satisfied: python-dateutil>=2.8.2 in c:\\users\\sroff\\appdata\\local\\packages\\pythonsoftwarefoundation.python.3.11_qbz5n2kfra8p0\\localcache\\local-packages\\python311\\site-packages (from pandas>=1.0->statsmodels) (2.8.2)\n",
      "Requirement already satisfied: pytz>=2020.1 in c:\\users\\sroff\\appdata\\local\\packages\\pythonsoftwarefoundation.python.3.11_qbz5n2kfra8p0\\localcache\\local-packages\\python311\\site-packages (from pandas>=1.0->statsmodels) (2023.3)\n",
      "Requirement already satisfied: tzdata>=2022.1 in c:\\users\\sroff\\appdata\\local\\packages\\pythonsoftwarefoundation.python.3.11_qbz5n2kfra8p0\\localcache\\local-packages\\python311\\site-packages (from pandas>=1.0->statsmodels) (2023.3)\n",
      "Requirement already satisfied: six in c:\\users\\sroff\\appdata\\local\\packages\\pythonsoftwarefoundation.python.3.11_qbz5n2kfra8p0\\localcache\\local-packages\\python311\\site-packages (from patsy>=0.5.2->statsmodels) (1.16.0)\n",
      "Installing collected packages: patsy, statsmodels\n",
      "Successfully installed patsy-0.5.3 statsmodels-0.14.0\n",
      "Note: you may need to restart the kernel to use updated packages.\n"
     ]
    }
   ],
   "source": [
    "pip install statsmodels"
   ]
  },
  {
   "cell_type": "code",
   "execution_count": 15,
   "metadata": {},
   "outputs": [],
   "source": [
    "\n",
    "import pandas as pd\n",
    "import numpy as np\n",
    "from sklearn.model_selection import train_test_split\n",
    "from statsmodels.formula.api import ols"
   ]
  },
  {
   "cell_type": "code",
   "execution_count": 2,
   "metadata": {},
   "outputs": [],
   "source": [
    "df = pd.read_csv(r\"C:\\Users\\sroff\\Documents\\MMAI CURRICULUM\\MMAI 5000 AI Fundamentals\\Class Activity\\ToyotaCorolla.csv\")"
   ]
  },
  {
   "cell_type": "code",
   "execution_count": 8,
   "metadata": {},
   "outputs": [
    {
     "name": "stdout",
     "output_type": "stream",
     "text": [
      "Training data size: 718\n",
      "Validation data size: 430\n",
      "Test data size: 288\n"
     ]
    }
   ],
   "source": [
    "#1. Split the data into training (50%), validation (30%), and test (20%) datasets.\n",
    "\n",
    "\n",
    "# Splitting data into training (50%) and remaining data (50%)\n",
    "df_train, df_remain  = train_test_split(df, test_size=0.5, random_state=42)\n",
    "\n",
    "# Splitting remaining data into validation (30%) and test (20%) . The remaining data is split into 60% for validation and 40% for testing.\n",
    "df_val, df_test = train_test_split(df_remain, test_size=0.4, random_state=42)\n",
    "\n",
    "# Printing the sizes of each dataset\n",
    "print(\"Training data size:\", len(df_train))\n",
    "print(\"Validation data size:\", len(df_val))\n",
    "print(\"Test data size:\", len(df_test))\n"
   ]
  },
  {
   "cell_type": "code",
   "execution_count": 9,
   "metadata": {},
   "outputs": [],
   "source": [
    "# 2. Run a multiple linear regression with the outcome variable Price and predictor variables Age_08_04, KM, Fuel_Type, HP,\n",
    "# Automatic, Doors, Quarterly_Tax, Mfr_Guarantee, Guarantee_Period, Airco, Automatic_airco, CD_Player, Powered_Windows, Sport_Model,\n",
    "# and Tow_Bar.\n",
    "\n",
    "predictor_formula = \"Price ~ Age_08_04 + KM + Fuel_Type + HP + Automatic + Doors + Quarterly_Tax + Mfr_Guarantee + Guarantee_Period + Airco + Automatic_airco + CD_Player + Powered_Windows + Sport_Model + Tow_Bar\"\n",
    "\n",
    "model = ols(formula=predictor_formula, data=df_train).fit()"
   ]
  }
 ],
 "metadata": {
  "kernelspec": {
   "display_name": "Python 3",
   "language": "python",
   "name": "python3"
  },
  "language_info": {
   "codemirror_mode": {
    "name": "ipython",
    "version": 3
   },
   "file_extension": ".py",
   "mimetype": "text/x-python",
   "name": "python",
   "nbconvert_exporter": "python",
   "pygments_lexer": "ipython3",
   "version": "3.11.4"
  },
  "orig_nbformat": 4
 },
 "nbformat": 4,
 "nbformat_minor": 2
}
